{
 "cells": [
  {
   "cell_type": "code",
   "execution_count": 48,
   "id": "22029306-6d28-436f-9cab-ba34bb979acb",
   "metadata": {},
   "outputs": [],
   "source": [
    "import pandas as pd\n",
    "import numpy as np\n",
    "from sklearn.metrics import precision_score, recall_score, f1_score\n",
    "\n",
    "gad_dataset = pd.read_csv('./GAD_merged_samples_mesh.csv')#,encoding = \"ISO-8859-1\",sep=\"\\t\")"
   ]
  },
  {
   "cell_type": "code",
   "execution_count": 49,
   "id": "b3ac0b92-0040-4518-aab6-6f7ea93a6666",
   "metadata": {},
   "outputs": [
    {
     "data": {
      "text/html": [
       "<div>\n",
       "<style scoped>\n",
       "    .dataframe tbody tr th:only-of-type {\n",
       "        vertical-align: middle;\n",
       "    }\n",
       "\n",
       "    .dataframe tbody tr th {\n",
       "        vertical-align: top;\n",
       "    }\n",
       "\n",
       "    .dataframe thead th {\n",
       "        text-align: right;\n",
       "    }\n",
       "</style>\n",
       "<table border=\"1\" class=\"dataframe\">\n",
       "  <thead>\n",
       "    <tr style=\"text-align: right;\">\n",
       "      <th></th>\n",
       "      <th>GAD_ID</th>\n",
       "      <th>associationType</th>\n",
       "      <th>geneSymbol</th>\n",
       "      <th>GAD_GENE_NAME</th>\n",
       "      <th>geneId</th>\n",
       "      <th>gene_mention</th>\n",
       "      <th>GENE_ENTITY_OFFSET</th>\n",
       "      <th>diseaseName</th>\n",
       "      <th>disease_mention</th>\n",
       "      <th>DISEASE_ENTITY_OFFSET</th>\n",
       "      <th>raw_sentence</th>\n",
       "      <th>diseaseId</th>\n",
       "    </tr>\n",
       "  </thead>\n",
       "  <tbody>\n",
       "    <tr>\n",
       "      <th>0</th>\n",
       "      <td>116326</td>\n",
       "      <td>Y</td>\n",
       "      <td>AGTR1</td>\n",
       "      <td>Angiotensin II receptor, type 1</td>\n",
       "      <td>185</td>\n",
       "      <td>AT1R</td>\n",
       "      <td>80#84</td>\n",
       "      <td>atherosclerosis, coronary</td>\n",
       "      <td>CAD</td>\n",
       "      <td>159#162</td>\n",
       "      <td>This study indicates a synergistic contributio...</td>\n",
       "      <td>MESH:D003324</td>\n",
       "    </tr>\n",
       "    <tr>\n",
       "      <th>1</th>\n",
       "      <td>588219</td>\n",
       "      <td>F</td>\n",
       "      <td>PALB2</td>\n",
       "      <td>partner and localizer of BRCA2</td>\n",
       "      <td>79728</td>\n",
       "      <td>PALB2</td>\n",
       "      <td>4#9</td>\n",
       "      <td>breast cancer</td>\n",
       "      <td>mutation</td>\n",
       "      <td>19#27</td>\n",
       "      <td>The PALB2 1592delT mutation has a strong effec...</td>\n",
       "      <td>NaN</td>\n",
       "    </tr>\n",
       "    <tr>\n",
       "      <th>2</th>\n",
       "      <td>127842</td>\n",
       "      <td>Y</td>\n",
       "      <td>IL1A</td>\n",
       "      <td>Interleukin 1, alpha</td>\n",
       "      <td>3552</td>\n",
       "      <td>IL-1</td>\n",
       "      <td>30#34</td>\n",
       "      <td>osteoarthritis</td>\n",
       "      <td>OA</td>\n",
       "      <td>113#115</td>\n",
       "      <td>Our findings suggest that the IL-1 gene cluste...</td>\n",
       "      <td>MESH:D010003</td>\n",
       "    </tr>\n",
       "    <tr>\n",
       "      <th>3</th>\n",
       "      <td>154807</td>\n",
       "      <td>F</td>\n",
       "      <td>TPMT</td>\n",
       "      <td>Thiopurine S-methyltransferase</td>\n",
       "      <td>7172</td>\n",
       "      <td>TPMT</td>\n",
       "      <td>26#30</td>\n",
       "      <td>azathioprine toxicity hepatitis, autoimmune</td>\n",
       "      <td>fibrosis</td>\n",
       "      <td>9#17</td>\n",
       "      <td>Advanced fibrosis but not TPMT genotype or act...</td>\n",
       "      <td>MESH:D005355</td>\n",
       "    </tr>\n",
       "    <tr>\n",
       "      <th>4</th>\n",
       "      <td>121481</td>\n",
       "      <td>F</td>\n",
       "      <td>DRD2</td>\n",
       "      <td>Dopamine receptor D2</td>\n",
       "      <td>1813</td>\n",
       "      <td>light</td>\n",
       "      <td>7#12</td>\n",
       "      <td>schizophrenia; schizoaffective disorder; affec...</td>\n",
       "      <td>finding</td>\n",
       "      <td>21#28</td>\n",
       "      <td>In the light of this finding, A2A2 DRD2 genoty...</td>\n",
       "      <td>NaN</td>\n",
       "    </tr>\n",
       "  </tbody>\n",
       "</table>\n",
       "</div>"
      ],
      "text/plain": [
       "   GAD_ID associationType geneSymbol                    GAD_GENE_NAME  geneId  \\\n",
       "0  116326               Y      AGTR1  Angiotensin II receptor, type 1     185   \n",
       "1  588219               F      PALB2   partner and localizer of BRCA2   79728   \n",
       "2  127842               Y       IL1A             Interleukin 1, alpha    3552   \n",
       "3  154807               F       TPMT   Thiopurine S-methyltransferase    7172   \n",
       "4  121481               F       DRD2             Dopamine receptor D2    1813   \n",
       "\n",
       "  gene_mention GENE_ENTITY_OFFSET  \\\n",
       "0         AT1R              80#84   \n",
       "1        PALB2                4#9   \n",
       "2         IL-1              30#34   \n",
       "3         TPMT              26#30   \n",
       "4        light               7#12   \n",
       "\n",
       "                                         diseaseName disease_mention  \\\n",
       "0                          atherosclerosis, coronary             CAD   \n",
       "1                                   breast cancer           mutation   \n",
       "2                                     osteoarthritis              OA   \n",
       "3        azathioprine toxicity hepatitis, autoimmune        fibrosis   \n",
       "4  schizophrenia; schizoaffective disorder; affec...         finding   \n",
       "\n",
       "  DISEASE_ENTITY_OFFSET                                       raw_sentence  \\\n",
       "0               159#162  This study indicates a synergistic contributio...   \n",
       "1                 19#27  The PALB2 1592delT mutation has a strong effec...   \n",
       "2               113#115  Our findings suggest that the IL-1 gene cluste...   \n",
       "3                  9#17  Advanced fibrosis but not TPMT genotype or act...   \n",
       "4                 21#28  In the light of this finding, A2A2 DRD2 genoty...   \n",
       "\n",
       "      diseaseId  \n",
       "0  MESH:D003324  \n",
       "1           NaN  \n",
       "2  MESH:D010003  \n",
       "3  MESH:D005355  \n",
       "4           NaN  "
      ]
     },
     "execution_count": 49,
     "metadata": {},
     "output_type": "execute_result"
    }
   ],
   "source": [
    "gad_dataset.head()"
   ]
  },
  {
   "cell_type": "code",
   "execution_count": 50,
   "id": "8bd261ec-4fa0-4095-bc71-083cbbde112e",
   "metadata": {},
   "outputs": [
    {
     "data": {
      "text/plain": [
       "associationType\n",
       "F    2529\n",
       "Y    1833\n",
       "N     967\n",
       "P       1\n",
       "Name: count, dtype: int64"
      ]
     },
     "execution_count": 50,
     "metadata": {},
     "output_type": "execute_result"
    }
   ],
   "source": [
    "gad_dataset.associationType.value_counts()"
   ]
  },
  {
   "cell_type": "code",
   "execution_count": 51,
   "id": "340fe6bf-6f4f-4f08-8039-64b512e40100",
   "metadata": {},
   "outputs": [
    {
     "data": {
      "text/html": [
       "<div>\n",
       "<style scoped>\n",
       "    .dataframe tbody tr th:only-of-type {\n",
       "        vertical-align: middle;\n",
       "    }\n",
       "\n",
       "    .dataframe tbody tr th {\n",
       "        vertical-align: top;\n",
       "    }\n",
       "\n",
       "    .dataframe thead th {\n",
       "        text-align: right;\n",
       "    }\n",
       "</style>\n",
       "<table border=\"1\" class=\"dataframe\">\n",
       "  <thead>\n",
       "    <tr style=\"text-align: right;\">\n",
       "      <th></th>\n",
       "      <th>GAD_ID</th>\n",
       "      <th>associationType</th>\n",
       "      <th>geneSymbol</th>\n",
       "      <th>GAD_GENE_NAME</th>\n",
       "      <th>geneId</th>\n",
       "      <th>gene_mention</th>\n",
       "      <th>GENE_ENTITY_OFFSET</th>\n",
       "      <th>diseaseName</th>\n",
       "      <th>disease_mention</th>\n",
       "      <th>DISEASE_ENTITY_OFFSET</th>\n",
       "      <th>raw_sentence</th>\n",
       "      <th>diseaseId</th>\n",
       "    </tr>\n",
       "  </thead>\n",
       "  <tbody>\n",
       "    <tr>\n",
       "      <th>1468</th>\n",
       "      <td>125111</td>\n",
       "      <td>F</td>\n",
       "      <td>HIF1A</td>\n",
       "      <td>Hypoxia-inducible factor 1, alpha subunit (bas...</td>\n",
       "      <td>3091</td>\n",
       "      <td>HIF-1alpha</td>\n",
       "      <td>54#64</td>\n",
       "      <td>colorectal cancer</td>\n",
       "      <td>progression</td>\n",
       "      <td>84#95</td>\n",
       "      <td>These results suggest that the C1772T polymorp...</td>\n",
       "      <td>MESH:D018450</td>\n",
       "    </tr>\n",
       "    <tr>\n",
       "      <th>3609</th>\n",
       "      <td>125111</td>\n",
       "      <td>N</td>\n",
       "      <td>HIF1A</td>\n",
       "      <td>Hypoxia-inducible factor 1, alpha subunit (bas...</td>\n",
       "      <td>3091</td>\n",
       "      <td>HIF-1alpha</td>\n",
       "      <td>54#64</td>\n",
       "      <td>colorectal cancer</td>\n",
       "      <td>colorectal carcinoma</td>\n",
       "      <td>113#133</td>\n",
       "      <td>These results suggest that the C1772T polymorp...</td>\n",
       "      <td>MESH:D015179</td>\n",
       "    </tr>\n",
       "  </tbody>\n",
       "</table>\n",
       "</div>"
      ],
      "text/plain": [
       "      GAD_ID associationType geneSymbol  \\\n",
       "1468  125111               F      HIF1A   \n",
       "3609  125111               N      HIF1A   \n",
       "\n",
       "                                          GAD_GENE_NAME  geneId gene_mention  \\\n",
       "1468  Hypoxia-inducible factor 1, alpha subunit (bas...    3091   HIF-1alpha   \n",
       "3609  Hypoxia-inducible factor 1, alpha subunit (bas...    3091   HIF-1alpha   \n",
       "\n",
       "     GENE_ENTITY_OFFSET        diseaseName       disease_mention  \\\n",
       "1468              54#64  colorectal cancer           progression   \n",
       "3609              54#64  colorectal cancer  colorectal carcinoma   \n",
       "\n",
       "     DISEASE_ENTITY_OFFSET                                       raw_sentence  \\\n",
       "1468                 84#95  These results suggest that the C1772T polymorp...   \n",
       "3609               113#133  These results suggest that the C1772T polymorp...   \n",
       "\n",
       "         diseaseId  \n",
       "1468  MESH:D018450  \n",
       "3609  MESH:D015179  "
      ]
     },
     "execution_count": 51,
     "metadata": {},
     "output_type": "execute_result"
    }
   ],
   "source": [
    "gad_dataset[gad_dataset['raw_sentence'].str.contains(\"These results suggest that the C1772T\")]"
   ]
  },
  {
   "cell_type": "code",
   "execution_count": 52,
   "id": "0390104d-be15-48d3-ab0d-9db05393af2c",
   "metadata": {},
   "outputs": [],
   "source": [
    "df =gad_dataset.copy()"
   ]
  },
  {
   "cell_type": "code",
   "execution_count": null,
   "id": "875459f9-d9e0-4d54-a1eb-56d925647815",
   "metadata": {},
   "outputs": [],
   "source": []
  },
  {
   "cell_type": "code",
   "execution_count": 84,
   "id": "c6314b47-f73d-4dde-aa29-ad7d15f548f8",
   "metadata": {},
   "outputs": [],
   "source": [
    "def process_predicted_output(value):\n",
    "    if pd.isnull(value):\n",
    "        return np.nan\n",
    "    value = str(value).strip()  # Remove leading/trailing whitespace\n",
    "    if value.lower() in ['true', 'true.']:  # Check for 'True' or 'True.' (case insensitive)\n",
    "        return True\n",
    "    elif value.lower() == 'false':  # Check for 'False' (case insensitive)\n",
    "        return False\n",
    "    else:\n",
    "        return np.nan  # If the value is anything else, return NaN\n"
   ]
  },
  {
   "cell_type": "code",
   "execution_count": 85,
   "id": "2e8c7166-068e-44d9-a5b4-eabe28a374f0",
   "metadata": {},
   "outputs": [],
   "source": [
    "df_2 = pd.read_csv(\"/home/016651544/llama2/test_df_10000_25_FT_model_full_test.csv\")\n",
    "df_2['predicted_output'] = df_2['predicted_output'].apply(process_predicted_output)\n"
   ]
  },
  {
   "cell_type": "code",
   "execution_count": 86,
   "id": "4895b48a-901a-4a4b-a49f-c9123ec72297",
   "metadata": {},
   "outputs": [
    {
     "data": {
      "text/plain": [
       "Index(['sentence', 'actual_output', 'predicted_output'], dtype='object')"
      ]
     },
     "execution_count": 86,
     "metadata": {},
     "output_type": "execute_result"
    }
   ],
   "source": [
    "df_2.columns"
   ]
  },
  {
   "cell_type": "code",
   "execution_count": 87,
   "id": "e45a023a-e1f8-478f-a3c3-88b817a751ac",
   "metadata": {},
   "outputs": [
    {
     "data": {
      "text/plain": [
       "predicted_output\n",
       "True     2796\n",
       "False    2533\n",
       "Name: count, dtype: int64"
      ]
     },
     "execution_count": 87,
     "metadata": {},
     "output_type": "execute_result"
    }
   ],
   "source": [
    "df_2.predicted_output.value_counts()"
   ]
  },
  {
   "cell_type": "code",
   "execution_count": 127,
   "id": "36cb1cfc-0b6b-4ba9-b17a-9aac7cc88c18",
   "metadata": {},
   "outputs": [
    {
     "data": {
      "text/html": [
       "<div>\n",
       "<style scoped>\n",
       "    .dataframe tbody tr th:only-of-type {\n",
       "        vertical-align: middle;\n",
       "    }\n",
       "\n",
       "    .dataframe tbody tr th {\n",
       "        vertical-align: top;\n",
       "    }\n",
       "\n",
       "    .dataframe thead th {\n",
       "        text-align: right;\n",
       "    }\n",
       "</style>\n",
       "<table border=\"1\" class=\"dataframe\">\n",
       "  <thead>\n",
       "    <tr style=\"text-align: right;\">\n",
       "      <th></th>\n",
       "      <th>sentence</th>\n",
       "      <th>actual_output</th>\n",
       "      <th>predicted_output</th>\n",
       "      <th>matched_sentence</th>\n",
       "    </tr>\n",
       "  </thead>\n",
       "  <tbody>\n",
       "    <tr>\n",
       "      <th>0</th>\n",
       "      <td>These results suggest that the C1772T polymorp...</td>\n",
       "      <td>True</td>\n",
       "      <td>True</td>\n",
       "      <td>These results suggest that the C1772T polymorp...</td>\n",
       "    </tr>\n",
       "    <tr>\n",
       "      <th>1</th>\n",
       "      <td>In our setting, @DISEASE$ among alcoholic indi...</td>\n",
       "      <td>True</td>\n",
       "      <td>True</td>\n",
       "      <td>In our setting, iron overload among alcoholic ...</td>\n",
       "    </tr>\n",
       "    <tr>\n",
       "      <th>2</th>\n",
       "      <td>MPO genotype GG is associated with @DISEASE$ i...</td>\n",
       "      <td>True</td>\n",
       "      <td>True</td>\n",
       "      <td>MPO genotype GG is associated with cirrhosis i...</td>\n",
       "    </tr>\n",
       "    <tr>\n",
       "      <th>3</th>\n",
       "      <td>These three studies do not provide consistent ...</td>\n",
       "      <td>True</td>\n",
       "      <td>True</td>\n",
       "      <td>These three studies do not provide consistent ...</td>\n",
       "    </tr>\n",
       "    <tr>\n",
       "      <th>4</th>\n",
       "      <td>Our prospective findings suggest that individu...</td>\n",
       "      <td>True</td>\n",
       "      <td>True</td>\n",
       "      <td>Our prospective findings suggest that individu...</td>\n",
       "    </tr>\n",
       "  </tbody>\n",
       "</table>\n",
       "</div>"
      ],
      "text/plain": [
       "                                            sentence  actual_output  \\\n",
       "0  These results suggest that the C1772T polymorp...           True   \n",
       "1  In our setting, @DISEASE$ among alcoholic indi...           True   \n",
       "2  MPO genotype GG is associated with @DISEASE$ i...           True   \n",
       "3  These three studies do not provide consistent ...           True   \n",
       "4  Our prospective findings suggest that individu...           True   \n",
       "\n",
       "  predicted_output                                   matched_sentence  \n",
       "0             True  These results suggest that the C1772T polymorp...  \n",
       "1             True  In our setting, iron overload among alcoholic ...  \n",
       "2             True  MPO genotype GG is associated with cirrhosis i...  \n",
       "3             True  These three studies do not provide consistent ...  \n",
       "4             True  Our prospective findings suggest that individu...  "
      ]
     },
     "execution_count": 127,
     "metadata": {},
     "output_type": "execute_result"
    }
   ],
   "source": [
    "df_2.head()"
   ]
  },
  {
   "cell_type": "code",
   "execution_count": null,
   "id": "57a50c3f-11aa-4925-a7eb-be08cf923ec8",
   "metadata": {},
   "outputs": [],
   "source": []
  },
  {
   "cell_type": "code",
   "execution_count": 132,
   "id": "dc2d0e30-f08d-4967-845f-2fd0623dd80c",
   "metadata": {},
   "outputs": [
    {
     "name": "stderr",
     "output_type": "stream",
     "text": [
      "/home/016651544/anaconda3/envs/llama2/lib/python3.10/site-packages/sklearn/metrics/_classification.py:1509: UndefinedMetricWarning: Recall is ill-defined and being set to 0.0 in labels with no true samples. Use `zero_division` parameter to control this behavior.\n",
      "  _warn_prf(average, modifier, f\"{metric.capitalize()} is\", len(result))\n"
     ]
    },
    {
     "data": {
      "text/plain": [
       "(0.9979375738150748, 0.9977485928705441, 0.9978423692049855)"
      ]
     },
     "execution_count": 132,
     "metadata": {},
     "output_type": "execute_result"
    }
   ],
   "source": [
    "from sklearn.metrics import precision_score, recall_score, f1_score\n",
    "\n",
    "# Assuming gemma_gad_out is your DataFrame and it contains the 'actual_output' and 'predicted_output' columns\n",
    "actual = df_2['actual_output'].astype(str)\n",
    "predicted = df_2['predicted_output'].astype(str)\n",
    "\n",
    "# Calculate Precision, Recall, and F1 score\n",
    "precision = precision_score(actual, predicted, average='macro')\n",
    "recall = recall_score(actual, predicted, average='macro')\n",
    "f1 = f1_score(actual, predicted, average='macro')\n",
    "\n",
    "precision, recall, f1"
   ]
  },
  {
   "cell_type": "code",
   "execution_count": 89,
   "id": "1130bfe6-539a-4569-aeae-58edf440fc67",
   "metadata": {},
   "outputs": [],
   "source": [
    "from sklearn.feature_extraction.text import TfidfVectorizer\n",
    "from sklearn.metrics.pairwise import cosine_similarity\n",
    "import pandas as pd\n",
    "\n",
    "# Initialize tf-idf vectorizer\n",
    "vectorizer = TfidfVectorizer()\n",
    "\n",
    "# Combine both dataframes into one for vectorization\n",
    "combined_sentences = df['raw_sentence'].tolist() + df_2['sentence'].tolist()\n",
    "tfidf_matrix = vectorizer.fit_transform(combined_sentences)\n",
    "\n",
    "# Compute cosine similarities (the matrix is asymmetrical due to sentence splitting)\n",
    "cosine_similarities = cosine_similarity(tfidf_matrix[:len(df)], tfidf_matrix[len(df):])\n",
    "\n",
    "# Threshold for accepting matches\n",
    "threshold = 0.65\n",
    "\n",
    "# For each sentence in df_2, find the best matching sentence in df\n",
    "matched_sentences = []\n",
    "for idx, row in df_2.iterrows():\n",
    "    # Get the cosine similarity scores for this sentence against all in df\n",
    "    similarity_scores = cosine_similarities[:, idx]\n",
    "\n",
    "    # Find the index with the highest similarity score\n",
    "    best_match_idx = np.argmax(similarity_scores)\n",
    "\n",
    "    # Check if the best score is above the threshold\n",
    "    if similarity_scores[best_match_idx] > threshold:\n",
    "        matched_sentences.append(df['raw_sentence'].iloc[best_match_idx])\n",
    "    else:\n",
    "        matched_sentences.append(None)\n",
    "\n",
    "# Assign the matched sentences to the new column in df_2\n",
    "df_2['matched_sentence'] = matched_sentences\n"
   ]
  },
  {
   "cell_type": "code",
   "execution_count": null,
   "id": "8b598319-507b-499d-b44f-ddab26453212",
   "metadata": {},
   "outputs": [],
   "source": []
  },
  {
   "cell_type": "code",
   "execution_count": 90,
   "id": "e90ff17d-ff89-4917-8f77-6751f08b8aa9",
   "metadata": {},
   "outputs": [
    {
     "data": {
      "text/html": [
       "<div>\n",
       "<style scoped>\n",
       "    .dataframe tbody tr th:only-of-type {\n",
       "        vertical-align: middle;\n",
       "    }\n",
       "\n",
       "    .dataframe tbody tr th {\n",
       "        vertical-align: top;\n",
       "    }\n",
       "\n",
       "    .dataframe thead th {\n",
       "        text-align: right;\n",
       "    }\n",
       "</style>\n",
       "<table border=\"1\" class=\"dataframe\">\n",
       "  <thead>\n",
       "    <tr style=\"text-align: right;\">\n",
       "      <th></th>\n",
       "      <th>raw_sentence</th>\n",
       "      <th>SENTENCE_MASKED</th>\n",
       "      <th>associationType</th>\n",
       "    </tr>\n",
       "  </thead>\n",
       "  <tbody>\n",
       "    <tr>\n",
       "      <th>0</th>\n",
       "      <td>This study indicates a synergistic contributio...</td>\n",
       "      <td>This study indicates a synergistic contributio...</td>\n",
       "      <td>Y</td>\n",
       "    </tr>\n",
       "    <tr>\n",
       "      <th>1</th>\n",
       "      <td>The PALB2 1592delT mutation has a strong effec...</td>\n",
       "      <td>The $GENE$ 1592delT $DISEASE$ has a strong eff...</td>\n",
       "      <td>F</td>\n",
       "    </tr>\n",
       "    <tr>\n",
       "      <th>2</th>\n",
       "      <td>Our findings suggest that the IL-1 gene cluste...</td>\n",
       "      <td>Our findings suggest that the $GENE$ gene clus...</td>\n",
       "      <td>Y</td>\n",
       "    </tr>\n",
       "    <tr>\n",
       "      <th>3</th>\n",
       "      <td>Advanced fibrosis but not TPMT genotype or act...</td>\n",
       "      <td>Advanced $DISEASE$ but not $GENE$ genotype or ...</td>\n",
       "      <td>F</td>\n",
       "    </tr>\n",
       "    <tr>\n",
       "      <th>4</th>\n",
       "      <td>In the light of this finding, A2A2 DRD2 genoty...</td>\n",
       "      <td>In the $GENE$ of this $DISEASE$, A2A2 DRD2 gen...</td>\n",
       "      <td>F</td>\n",
       "    </tr>\n",
       "    <tr>\n",
       "      <th>...</th>\n",
       "      <td>...</td>\n",
       "      <td>...</td>\n",
       "      <td>...</td>\n",
       "    </tr>\n",
       "    <tr>\n",
       "      <th>5325</th>\n",
       "      <td>Significant differences in the iNOS promoter p...</td>\n",
       "      <td>Significant differences in the $GENE$ promoter...</td>\n",
       "      <td>Y</td>\n",
       "    </tr>\n",
       "    <tr>\n",
       "      <th>5326</th>\n",
       "      <td>We could not replicate that DLG5 is a relevant...</td>\n",
       "      <td>We could not replicate that $GENE$ is a releva...</td>\n",
       "      <td>F</td>\n",
       "    </tr>\n",
       "    <tr>\n",
       "      <th>5327</th>\n",
       "      <td>The results suggest that eNOS polymorphisms (e...</td>\n",
       "      <td>The results suggest that $GENE$ polymorphisms ...</td>\n",
       "      <td>F</td>\n",
       "    </tr>\n",
       "    <tr>\n",
       "      <th>5328</th>\n",
       "      <td>Despite the strikingly similar pathologies of ...</td>\n",
       "      <td>Despite the strikingly similar pathologies of ...</td>\n",
       "      <td>N</td>\n",
       "    </tr>\n",
       "    <tr>\n",
       "      <th>5329</th>\n",
       "      <td>Our data suggest that the fibrinogen-elevating...</td>\n",
       "      <td>Our data suggest that the fibrinogen-elevating...</td>\n",
       "      <td>N</td>\n",
       "    </tr>\n",
       "  </tbody>\n",
       "</table>\n",
       "<p>5330 rows × 3 columns</p>\n",
       "</div>"
      ],
      "text/plain": [
       "                                           raw_sentence  \\\n",
       "0     This study indicates a synergistic contributio...   \n",
       "1     The PALB2 1592delT mutation has a strong effec...   \n",
       "2     Our findings suggest that the IL-1 gene cluste...   \n",
       "3     Advanced fibrosis but not TPMT genotype or act...   \n",
       "4     In the light of this finding, A2A2 DRD2 genoty...   \n",
       "...                                                 ...   \n",
       "5325  Significant differences in the iNOS promoter p...   \n",
       "5326  We could not replicate that DLG5 is a relevant...   \n",
       "5327  The results suggest that eNOS polymorphisms (e...   \n",
       "5328  Despite the strikingly similar pathologies of ...   \n",
       "5329  Our data suggest that the fibrinogen-elevating...   \n",
       "\n",
       "                                        SENTENCE_MASKED associationType  \n",
       "0     This study indicates a synergistic contributio...               Y  \n",
       "1     The $GENE$ 1592delT $DISEASE$ has a strong eff...               F  \n",
       "2     Our findings suggest that the $GENE$ gene clus...               Y  \n",
       "3     Advanced $DISEASE$ but not $GENE$ genotype or ...               F  \n",
       "4     In the $GENE$ of this $DISEASE$, A2A2 DRD2 gen...               F  \n",
       "...                                                 ...             ...  \n",
       "5325  Significant differences in the $GENE$ promoter...               Y  \n",
       "5326  We could not replicate that $GENE$ is a releva...               F  \n",
       "5327  The results suggest that $GENE$ polymorphisms ...               F  \n",
       "5328  Despite the strikingly similar pathologies of ...               N  \n",
       "5329  Our data suggest that the fibrinogen-elevating...               N  \n",
       "\n",
       "[5330 rows x 3 columns]"
      ]
     },
     "execution_count": 90,
     "metadata": {},
     "output_type": "execute_result"
    }
   ],
   "source": [
    "# Function to mask entities in a sentence\n",
    "def mask_entities(sentence, gene_mention, gene_offsets, disease_mention, disease_offsets):\n",
    "    # Parse entity offsets\n",
    "    gene_start, gene_end = map(int, gene_offsets.split('#'))\n",
    "    disease_start, disease_end = map(int, disease_offsets.split('#'))\n",
    "\n",
    "    # Sort entities by their position to avoid offset issues when replacing\n",
    "    entities = sorted(\n",
    "        [(gene_mention, gene_start, gene_end, 'Gene'), \n",
    "         (disease_mention, disease_start, disease_end, 'Disease')], \n",
    "        key=lambda x: x[1], reverse=True\n",
    "    )\n",
    "    \n",
    "    # Replace entities starting from the end of the sentence\n",
    "    for text, start, end, etype in entities:\n",
    "        mask = '$GENE$' if etype == 'Gene' else '$DISEASE$'\n",
    "        sentence = sentence[:start] + mask + sentence[end:]\n",
    "        \n",
    "    return sentence\n",
    "\n",
    "# Apply the masking function to each row\n",
    "df['SENTENCE_MASKED'] = df.apply(lambda x: mask_entities(\n",
    "    x['raw_sentence'], \n",
    "    x['gene_mention'], x['GENE_ENTITY_OFFSET'], \n",
    "    x['disease_mention'], x['DISEASE_ENTITY_OFFSET']\n",
    "), axis=1)\n",
    "\n",
    "# Assuming you want to view the specific columns mentioned\n",
    "df[['raw_sentence', 'SENTENCE_MASKED', 'associationType']]"
   ]
  },
  {
   "cell_type": "code",
   "execution_count": null,
   "id": "f790fdcf-c228-4c56-a942-f6151f6bd0d4",
   "metadata": {},
   "outputs": [],
   "source": []
  },
  {
   "cell_type": "code",
   "execution_count": 91,
   "id": "d85c8cde-61bb-4125-9de0-7453e5e8142b",
   "metadata": {},
   "outputs": [],
   "source": [
    "euadr_unmasked = pd.concat([df[['raw_sentence', 'SENTENCE_MASKED',\"associationType\",\"gene_mention\",\"disease_mention\"]], df_2[[\"actual_output\",\"predicted_output\"]]], axis = 1)#.rename(columns = {\"sentence\":\"SENTENCE\"})],axis = 0 )\n",
    "# pd.merge(df[['SENTENCE', 'SENTENCE_MASKED',\"ASSOCIATION_TYPE\"]], df_2.rename(columns = {\"sentence\":\"SENTENCE\"}), on =['SENTENCE'], how='left' )"
   ]
  },
  {
   "cell_type": "code",
   "execution_count": 92,
   "id": "84d0cf0f-e2b0-4f82-bb5b-aee8c1864007",
   "metadata": {},
   "outputs": [
    {
     "data": {
      "text/html": [
       "<div>\n",
       "<style scoped>\n",
       "    .dataframe tbody tr th:only-of-type {\n",
       "        vertical-align: middle;\n",
       "    }\n",
       "\n",
       "    .dataframe tbody tr th {\n",
       "        vertical-align: top;\n",
       "    }\n",
       "\n",
       "    .dataframe thead th {\n",
       "        text-align: right;\n",
       "    }\n",
       "</style>\n",
       "<table border=\"1\" class=\"dataframe\">\n",
       "  <thead>\n",
       "    <tr style=\"text-align: right;\">\n",
       "      <th></th>\n",
       "      <th>raw_sentence</th>\n",
       "      <th>SENTENCE_MASKED</th>\n",
       "      <th>associationType</th>\n",
       "      <th>gene_mention</th>\n",
       "      <th>disease_mention</th>\n",
       "      <th>actual_output</th>\n",
       "      <th>predicted_output</th>\n",
       "    </tr>\n",
       "  </thead>\n",
       "  <tbody>\n",
       "    <tr>\n",
       "      <th>0</th>\n",
       "      <td>This study indicates a synergistic contributio...</td>\n",
       "      <td>This study indicates a synergistic contributio...</td>\n",
       "      <td>Y</td>\n",
       "      <td>AT1R</td>\n",
       "      <td>CAD</td>\n",
       "      <td>True</td>\n",
       "      <td>True</td>\n",
       "    </tr>\n",
       "    <tr>\n",
       "      <th>1</th>\n",
       "      <td>The PALB2 1592delT mutation has a strong effec...</td>\n",
       "      <td>The $GENE$ 1592delT $DISEASE$ has a strong eff...</td>\n",
       "      <td>F</td>\n",
       "      <td>PALB2</td>\n",
       "      <td>mutation</td>\n",
       "      <td>True</td>\n",
       "      <td>True</td>\n",
       "    </tr>\n",
       "    <tr>\n",
       "      <th>2</th>\n",
       "      <td>Our findings suggest that the IL-1 gene cluste...</td>\n",
       "      <td>Our findings suggest that the $GENE$ gene clus...</td>\n",
       "      <td>Y</td>\n",
       "      <td>IL-1</td>\n",
       "      <td>OA</td>\n",
       "      <td>True</td>\n",
       "      <td>True</td>\n",
       "    </tr>\n",
       "    <tr>\n",
       "      <th>3</th>\n",
       "      <td>Advanced fibrosis but not TPMT genotype or act...</td>\n",
       "      <td>Advanced $DISEASE$ but not $GENE$ genotype or ...</td>\n",
       "      <td>F</td>\n",
       "      <td>TPMT</td>\n",
       "      <td>fibrosis</td>\n",
       "      <td>True</td>\n",
       "      <td>True</td>\n",
       "    </tr>\n",
       "    <tr>\n",
       "      <th>4</th>\n",
       "      <td>In the light of this finding, A2A2 DRD2 genoty...</td>\n",
       "      <td>In the $GENE$ of this $DISEASE$, A2A2 DRD2 gen...</td>\n",
       "      <td>F</td>\n",
       "      <td>light</td>\n",
       "      <td>finding</td>\n",
       "      <td>True</td>\n",
       "      <td>True</td>\n",
       "    </tr>\n",
       "  </tbody>\n",
       "</table>\n",
       "</div>"
      ],
      "text/plain": [
       "                                        raw_sentence  \\\n",
       "0  This study indicates a synergistic contributio...   \n",
       "1  The PALB2 1592delT mutation has a strong effec...   \n",
       "2  Our findings suggest that the IL-1 gene cluste...   \n",
       "3  Advanced fibrosis but not TPMT genotype or act...   \n",
       "4  In the light of this finding, A2A2 DRD2 genoty...   \n",
       "\n",
       "                                     SENTENCE_MASKED associationType  \\\n",
       "0  This study indicates a synergistic contributio...               Y   \n",
       "1  The $GENE$ 1592delT $DISEASE$ has a strong eff...               F   \n",
       "2  Our findings suggest that the $GENE$ gene clus...               Y   \n",
       "3  Advanced $DISEASE$ but not $GENE$ genotype or ...               F   \n",
       "4  In the $GENE$ of this $DISEASE$, A2A2 DRD2 gen...               F   \n",
       "\n",
       "  gene_mention disease_mention  actual_output predicted_output  \n",
       "0         AT1R             CAD           True             True  \n",
       "1        PALB2        mutation           True             True  \n",
       "2         IL-1              OA           True             True  \n",
       "3         TPMT        fibrosis           True             True  \n",
       "4        light         finding           True             True  "
      ]
     },
     "execution_count": 92,
     "metadata": {},
     "output_type": "execute_result"
    }
   ],
   "source": [
    "euadr_unmasked.head()"
   ]
  },
  {
   "cell_type": "code",
   "execution_count": 93,
   "id": "bd0245b6-0890-4a89-8484-35bdc2ea643b",
   "metadata": {},
   "outputs": [],
   "source": [
    "euadr_unmasked.to_csv(\"./gad_unmasked.csv\",index=False)"
   ]
  },
  {
   "cell_type": "code",
   "execution_count": 94,
   "id": "6b5bcdce-d85f-4372-babe-f5772f67a165",
   "metadata": {},
   "outputs": [
    {
     "data": {
      "text/html": [
       "<div>\n",
       "<style scoped>\n",
       "    .dataframe tbody tr th:only-of-type {\n",
       "        vertical-align: middle;\n",
       "    }\n",
       "\n",
       "    .dataframe tbody tr th {\n",
       "        vertical-align: top;\n",
       "    }\n",
       "\n",
       "    .dataframe thead th {\n",
       "        text-align: right;\n",
       "    }\n",
       "</style>\n",
       "<table border=\"1\" class=\"dataframe\">\n",
       "  <thead>\n",
       "    <tr style=\"text-align: right;\">\n",
       "      <th>predicted_output</th>\n",
       "      <th>False</th>\n",
       "      <th>True</th>\n",
       "    </tr>\n",
       "    <tr>\n",
       "      <th>associationType</th>\n",
       "      <th></th>\n",
       "      <th></th>\n",
       "    </tr>\n",
       "  </thead>\n",
       "  <tbody>\n",
       "    <tr>\n",
       "      <th>F</th>\n",
       "      <td>1181</td>\n",
       "      <td>1348</td>\n",
       "    </tr>\n",
       "    <tr>\n",
       "      <th>N</th>\n",
       "      <td>467</td>\n",
       "      <td>500</td>\n",
       "    </tr>\n",
       "    <tr>\n",
       "      <th>P</th>\n",
       "      <td>1</td>\n",
       "      <td>0</td>\n",
       "    </tr>\n",
       "    <tr>\n",
       "      <th>Y</th>\n",
       "      <td>884</td>\n",
       "      <td>948</td>\n",
       "    </tr>\n",
       "  </tbody>\n",
       "</table>\n",
       "</div>"
      ],
      "text/plain": [
       "predicted_output  False  True \n",
       "associationType               \n",
       "F                  1181   1348\n",
       "N                   467    500\n",
       "P                     1      0\n",
       "Y                   884    948"
      ]
     },
     "execution_count": 94,
     "metadata": {},
     "output_type": "execute_result"
    }
   ],
   "source": [
    "euadr_unmasked.groupby(['associationType', 'predicted_output']).size().unstack(fill_value=0)\n",
    "# unmasked-> entities -> mask -> llama2/gemma -> output\n"
   ]
  },
  {
   "cell_type": "code",
   "execution_count": null,
   "id": "bbf54b1f-1c26-4e07-827b-361d8e76968e",
   "metadata": {},
   "outputs": [],
   "source": []
  },
  {
   "cell_type": "code",
   "execution_count": null,
   "id": "6be5929e-4edc-4999-98a1-75b2d09fe832",
   "metadata": {},
   "outputs": [],
   "source": []
  },
  {
   "cell_type": "code",
   "execution_count": null,
   "id": "6bbbdad3-3eaa-4395-98c1-952970d4bff5",
   "metadata": {},
   "outputs": [],
   "source": []
  },
  {
   "cell_type": "code",
   "execution_count": null,
   "id": "140c3c76-75b9-49d3-b7cb-dbe1b61f7cf4",
   "metadata": {},
   "outputs": [],
   "source": []
  },
  {
   "cell_type": "code",
   "execution_count": 44,
   "id": "5b9a1eff-b0f0-4b6d-ad29-54385cea1818",
   "metadata": {},
   "outputs": [],
   "source": [
    "# test_df = pd.DataFrame({\n",
    "#     'actual_output': ['True', 'False', 'TRUE', 'FALSE', 'true', 'false'],\n",
    "#     'predicted_output': ['True', 'False', 'TRUE', 'FALSE', 'true', 'false']\n",
    "# })\n",
    "\n",
    "# # Normalize case to lower and then convert to integer\n",
    "# test_df['actual'] = (test_df['actual_output'].str.lower() == 'true').astype(int)\n",
    "# test_df['predicted'] = (test_df['predicted_output'].str.replace(r\"[^TrueFalse]\", \"\", regex=True).str.lower() == 'true').astype(int)\n"
   ]
  },
  {
   "cell_type": "code",
   "execution_count": 142,
   "id": "72a1fcb3-62f9-40bd-ad34-98dec905aea2",
   "metadata": {},
   "outputs": [],
   "source": [
    "# test_df\n"
   ]
  },
  {
   "cell_type": "code",
   "execution_count": 287,
   "id": "eaef2a08-7378-4263-abbe-218aa9d2046e",
   "metadata": {},
   "outputs": [
    {
     "name": "stdout",
     "output_type": "stream",
     "text": [
      "# of True and False samples : 8 4 67.0 33.0\n",
      "Sampled 12: 12\n",
      "# of True and False samples : 35 16 69.0 31.0\n",
      "Sampled 51: 51\n",
      "# of True and False samples : 62 27 70.0 30.0\n",
      "Sampled 89: 89\n",
      "# of True and False samples : 124 54 70.0 30.0\n",
      "Sampled 178: 178\n",
      "# of True and False samples : 180 78 70.0 30.0\n",
      "Sampled 258: 258\n",
      "# of True and False samples : 244 105 70.0 30.0\n",
      "Sampled 349: 349\n",
      "# of True and False samples : 315 135 70.0 30.0\n",
      "Sampled 450: 450\n",
      "# of True and False samples : 407 175 70.0 30.0\n",
      "Sampled 582: 582\n",
      "# of True and False samples : 494 212 70.0 30.0\n",
      "Sampled 706: 706\n",
      "# of True and False samples : 558 240 70.0 30.0\n",
      "Sampled 798: 798\n",
      "Sampled 12: 12\n",
      "Sampled 51: 51\n",
      "Sampled 89: 89\n",
      "Sampled 178: 178\n",
      "Sampled 258: 258\n",
      "Sampled 349: 349\n",
      "Sampled 450: 450\n",
      "Sampled 582: 582\n",
      "Sampled 706: 706\n",
      "Sampled 798: 798\n"
     ]
    }
   ],
   "source": [
    "import pandas as pd\n",
    "\n",
    "# Assuming 'df' is your DataFrame and 'seed' is defined somewhere as your random seed\n",
    "seed = 0\n",
    "\n",
    "# Function to sample the data based on a fixed number of samples\n",
    "def sample_data_fixed(df, n_samples):\n",
    "    n_true = int(n_samples * 0.7)\n",
    "    n_false = n_samples - n_true\n",
    "\n",
    "    true_samples = df[df['predicted_output'] == True].sample(n=min(n_true, len(df[df['predicted_output'] == True])), random_state=seed)\n",
    "    false_samples = df[df['predicted_output'] == False].sample(n=min(n_false, len(df[df['predicted_output'] == False])), random_state=seed)\n",
    "\n",
    "    # If there aren't enough True or False samples, fill with the other type\n",
    "    if len(true_samples) < n_true:\n",
    "        additional_samples = df[df['predicted_output'] == False].sample(n=(n_true - len(true_samples)), random_state=seed)\n",
    "        true_samples = pd.concat([true_samples, additional_samples])\n",
    "    elif len(false_samples) < n_false:\n",
    "        additional_samples = df[df['predicted_output'] == True].sample(n=(n_false - len(false_samples)), random_state=seed)\n",
    "        false_samples = pd.concat([false_samples, additional_samples])\n",
    "    \n",
    "    print(\"# of True and False samples :\",len(true_samples), len(false_samples), round(len(true_samples)/n_samples,2)*100, round(len(false_samples)/n_samples,2)*100 )\n",
    "    return pd.concat([true_samples, false_samples]).sample(frac=1, random_state=seed)  # Shuffle the dataset\n",
    "\n",
    "# Your DataFrame\n",
    "\n",
    "df = euadr_unmasked.copy()\n",
    "\n",
    "# Sample sizes\n",
    "sample_sizes = [12, 51, 89, 178, 258, 349, 450, 582, 706, 798]\n",
    "\n",
    "# Dictionary to hold the sample data\n",
    "samples = {}\n",
    "\n",
    "# Sampling data for each sample size\n",
    "for i, size in enumerate(sample_sizes):\n",
    "    samples[f'sample_{size}'] = sample_data_fixed(df, size)\n",
    "    print(f\"Sampled {size}:\", len(samples[f'sample_{size}']))\n",
    "    samples[f'sample_{size}'].to_csv(f\"./datasets/gad_samples/{seed}/{size}_sample_val_gad.csv\", index=True)\n",
    "# Example to print the sampled data sizes\n",
    "for size in sample_sizes:\n",
    "    print(f\"Sampled {size}:\", len(samples[f'sample_{size}']))"
   ]
  },
  {
   "cell_type": "code",
   "execution_count": 255,
   "id": "0f9c7379-6b3c-48e2-a301-120782807564",
   "metadata": {},
   "outputs": [],
   "source": [
    "# sample_10.to_csv(f\"./datasets/{seed}/GAD/10_sample_val_gad.csv\",index=True)\n",
    "# sample_20.to_csv(f\"./datasets/{seed}/GAD/20_sample_val_gad.csv\",index=True)\n",
    "# sample_30.to_csv(f\"./datasets/{seed}/GAD/30_sample_val_gad.csv\",index=True)\n",
    "# sample_40.to_csv(f\"./datasets/{seed}/GAD/40_sample_val_gad.csv\",index=True)\n",
    "# sample_50.to_csv(f\"./datasets/{seed}/GAD/50_sample_val_gad.csv\",index=True)\n",
    "# sample_60.to_csv(f\"./datasets/{seed}/GAD/60_sample_val_gad.csv\",index=True)\n",
    "# sample_70.to_csv(f\"./datasets/{seed}/GAD/70_sample_val_gad.csv\",index=True)\n",
    "# sample_80.to_csv(f\"./datasets/{seed}/GAD/80_sample_val_gad.csv\",index=True)\n",
    "# sample_90.to_csv(f\"./datasets/{seed}/GAD/90_sample_val_gad.csv\",index=True)\n",
    "# sample_100.to_csv(f\"./datasets/{seed}/GAD/100_sample_val_gad.csv\",index=True)"
   ]
  },
  {
   "cell_type": "code",
   "execution_count": null,
   "id": "d4c36580-6fac-4dcb-b208-20b05c7bfdba",
   "metadata": {},
   "outputs": [],
   "source": []
  },
  {
   "cell_type": "markdown",
   "id": "c1604d04-1167-46e1-b5c4-7d37ce5ea46c",
   "metadata": {},
   "source": [
    "### llama2 GAD"
   ]
  },
  {
   "cell_type": "code",
   "execution_count": 220,
   "id": "5cc6cecf-d67b-44ef-9af7-cd16c2b175ae",
   "metadata": {},
   "outputs": [],
   "source": [
    "import pandas as pd\n"
   ]
  },
  {
   "cell_type": "code",
   "execution_count": 226,
   "id": "94864a9f-9c01-403c-b7fb-2292e6ae146a",
   "metadata": {},
   "outputs": [
    {
     "data": {
      "text/html": [
       "<div>\n",
       "<style scoped>\n",
       "    .dataframe tbody tr th:only-of-type {\n",
       "        vertical-align: middle;\n",
       "    }\n",
       "\n",
       "    .dataframe tbody tr th {\n",
       "        vertical-align: top;\n",
       "    }\n",
       "\n",
       "    .dataframe thead th {\n",
       "        text-align: right;\n",
       "    }\n",
       "</style>\n",
       "<table border=\"1\" class=\"dataframe\">\n",
       "  <thead>\n",
       "    <tr style=\"text-align: right;\">\n",
       "      <th></th>\n",
       "      <th>sentence</th>\n",
       "      <th>actual_output</th>\n",
       "      <th>predicted_output</th>\n",
       "    </tr>\n",
       "  </thead>\n",
       "  <tbody>\n",
       "    <tr>\n",
       "      <th>0</th>\n",
       "      <td>These results suggest that the C1772T polymorp...</td>\n",
       "      <td>True</td>\n",
       "      <td>True</td>\n",
       "    </tr>\n",
       "    <tr>\n",
       "      <th>1</th>\n",
       "      <td>In our setting, @DISEASE$ among alcoholic indi...</td>\n",
       "      <td>True</td>\n",
       "      <td>True</td>\n",
       "    </tr>\n",
       "    <tr>\n",
       "      <th>2</th>\n",
       "      <td>MPO genotype GG is associated with @DISEASE$ i...</td>\n",
       "      <td>True</td>\n",
       "      <td>True</td>\n",
       "    </tr>\n",
       "    <tr>\n",
       "      <th>3</th>\n",
       "      <td>These three studies do not provide consistent ...</td>\n",
       "      <td>True</td>\n",
       "      <td>True</td>\n",
       "    </tr>\n",
       "    <tr>\n",
       "      <th>4</th>\n",
       "      <td>Our prospective findings suggest that individu...</td>\n",
       "      <td>True</td>\n",
       "      <td>True</td>\n",
       "    </tr>\n",
       "  </tbody>\n",
       "</table>\n",
       "</div>"
      ],
      "text/plain": [
       "                                            sentence  actual_output  \\\n",
       "0  These results suggest that the C1772T polymorp...           True   \n",
       "1  In our setting, @DISEASE$ among alcoholic indi...           True   \n",
       "2  MPO genotype GG is associated with @DISEASE$ i...           True   \n",
       "3  These three studies do not provide consistent ...           True   \n",
       "4  Our prospective findings suggest that individu...           True   \n",
       "\n",
       "  predicted_output  \n",
       "0             True  \n",
       "1             True  \n",
       "2             True  \n",
       "3             True  \n",
       "4             True  "
      ]
     },
     "execution_count": 226,
     "metadata": {},
     "output_type": "execute_result"
    }
   ],
   "source": [
    "llama2_gad_out = pd.read_csv(\"/home/016651544/llama2/test_df_10000_25_FT_model_full_test.csv\")\n",
    "llama2_gad_out.head()"
   ]
  },
  {
   "cell_type": "code",
   "execution_count": 227,
   "id": "197255e3-f3be-4e50-8ce6-0c5ab746664a",
   "metadata": {},
   "outputs": [
    {
     "name": "stderr",
     "output_type": "stream",
     "text": [
      "/tmp/ipykernel_124188/392949793.py:2: FutureWarning: Series.__getitem__ treating keys as positions is deprecated. In a future version, integer keys will always be treated as labels (consistent with DataFrame behavior). To access a value by position, use `ser.iloc[pos]`\n",
      "  if pd.isna(row[2]) :# or row[2].lower() == \"nan\":\n",
      "/tmp/ipykernel_124188/392949793.py:4: FutureWarning: Series.__getitem__ treating keys as positions is deprecated. In a future version, integer keys will always be treated as labels (consistent with DataFrame behavior). To access a value by position, use `ser.iloc[pos]`\n",
      "  elif \"true\" in row[2].lower():\n",
      "/tmp/ipykernel_124188/392949793.py:6: FutureWarning: Series.__getitem__ treating keys as positions is deprecated. In a future version, integer keys will always be treated as labels (consistent with DataFrame behavior). To access a value by position, use `ser.iloc[pos]`\n",
      "  elif \"false\" in row[2].lower():\n"
     ]
    }
   ],
   "source": [
    "def change_nan(row):\n",
    "    if pd.isna(row[2]) :# or row[2].lower() == \"nan\":\n",
    "        return not row[1]\n",
    "    elif \"true\" in row[2].lower():\n",
    "        return True\n",
    "    elif \"false\" in row[2].lower():\n",
    "        return False\n",
    "    else:\n",
    "        return not row[1]\n",
    "llama2_gad_out.predicted_output = llama2_gad_out.apply(lambda x: change_nan(x),axis=1)\n"
   ]
  },
  {
   "cell_type": "code",
   "execution_count": 228,
   "id": "674bd123-d001-4f96-a8a4-639375de31a0",
   "metadata": {},
   "outputs": [
    {
     "data": {
      "text/plain": [
       "predicted_output\n",
       "True     2796\n",
       "False    2534\n",
       "Name: count, dtype: int64"
      ]
     },
     "execution_count": 228,
     "metadata": {},
     "output_type": "execute_result"
    }
   ],
   "source": [
    "llama2_gad_out.predicted_output.value_counts()"
   ]
  },
  {
   "cell_type": "code",
   "execution_count": 229,
   "id": "47354cfe-94f3-4883-9817-735c04536f05",
   "metadata": {},
   "outputs": [
    {
     "name": "stdout",
     "output_type": "stream",
     "text": [
      "sentence            0\n",
      "actual_output       0\n",
      "predicted_output    0\n",
      "dtype: int64\n"
     ]
    }
   ],
   "source": [
    "print(llama2_gad_out.isna().sum())\n",
    "llama2_gad_out.dropna(inplace=True)\n"
   ]
  },
  {
   "cell_type": "code",
   "execution_count": 263,
   "id": "580fdd15-c23b-40ea-8e56-fe0b3b972963",
   "metadata": {},
   "outputs": [],
   "source": [
    "# llama2_gad_out.to_csv(\"/home/016651544/model_predictions_files/llama2_gad_predictions.csv\",index=False)"
   ]
  },
  {
   "cell_type": "code",
   "execution_count": 230,
   "id": "7c59d421-97d0-496c-aa15-3ca9a3e50356",
   "metadata": {},
   "outputs": [
    {
     "name": "stdout",
     "output_type": "stream",
     "text": [
      "Precision:  0.9978849873480324\n",
      "Recall:  0.9979788187831579\n",
      "F1 score:  0.9979310182499153\n",
      "              precision    recall  f1-score   support\n",
      "\n",
      "       False       1.00      1.00      1.00      2529\n",
      "        True       1.00      1.00      1.00      2801\n",
      "\n",
      "    accuracy                           1.00      5330\n",
      "   macro avg       1.00      1.00      1.00      5330\n",
      "weighted avg       1.00      1.00      1.00      5330\n",
      "\n"
     ]
    }
   ],
   "source": [
    "# Generate classification report\n",
    "from sklearn.metrics import precision_score, recall_score, f1_score\n",
    "actual = llama2_gad_out['actual_output'].astype(str)\n",
    "predicted = llama2_gad_out['predicted_output'].astype(str)\n",
    "# Calculate Precision, Recall, and F1 score\n",
    "precision = precision_score(actual, predicted, average='macro')\n",
    "recall = recall_score(actual, predicted, average='macro')\n",
    "f1 = f1_score(actual, predicted, average='macro')\n",
    "print(\"Precision: \",precision)\n",
    "print(\"Recall: \",recall)\n",
    "print(\"F1 score: \",f1)\n",
    "report = classification_report(actual, predicted)\n",
    "print(report)"
   ]
  },
  {
   "cell_type": "markdown",
   "id": "0efd768f-a2d6-4d6c-af19-8f3f90c17084",
   "metadata": {},
   "source": [
    "### GEMMA 7b - GAD"
   ]
  },
  {
   "cell_type": "code",
   "execution_count": 264,
   "id": "038ce87e-cfc4-4afb-8249-10d4f7e2af08",
   "metadata": {},
   "outputs": [
    {
     "data": {
      "text/html": [
       "<div>\n",
       "<style scoped>\n",
       "    .dataframe tbody tr th:only-of-type {\n",
       "        vertical-align: middle;\n",
       "    }\n",
       "\n",
       "    .dataframe tbody tr th {\n",
       "        vertical-align: top;\n",
       "    }\n",
       "\n",
       "    .dataframe thead th {\n",
       "        text-align: right;\n",
       "    }\n",
       "</style>\n",
       "<table border=\"1\" class=\"dataframe\">\n",
       "  <thead>\n",
       "    <tr style=\"text-align: right;\">\n",
       "      <th></th>\n",
       "      <th>sentence</th>\n",
       "      <th>actual_output</th>\n",
       "      <th>predicted_output</th>\n",
       "    </tr>\n",
       "  </thead>\n",
       "  <tbody>\n",
       "    <tr>\n",
       "      <th>0</th>\n",
       "      <td>These results suggest that the C1772T polymorp...</td>\n",
       "      <td>True</td>\n",
       "      <td>True</td>\n",
       "    </tr>\n",
       "    <tr>\n",
       "      <th>1</th>\n",
       "      <td>In our setting, @DISEASE$ among alcoholic indi...</td>\n",
       "      <td>True</td>\n",
       "      <td>True</td>\n",
       "    </tr>\n",
       "    <tr>\n",
       "      <th>2</th>\n",
       "      <td>MPO genotype GG is associated with @DISEASE$ i...</td>\n",
       "      <td>True</td>\n",
       "      <td>True</td>\n",
       "    </tr>\n",
       "    <tr>\n",
       "      <th>3</th>\n",
       "      <td>These three studies do not provide consistent ...</td>\n",
       "      <td>True</td>\n",
       "      <td>True</td>\n",
       "    </tr>\n",
       "    <tr>\n",
       "      <th>4</th>\n",
       "      <td>Our prospective findings suggest that individu...</td>\n",
       "      <td>True</td>\n",
       "      <td>True</td>\n",
       "    </tr>\n",
       "  </tbody>\n",
       "</table>\n",
       "</div>"
      ],
      "text/plain": [
       "                                            sentence  actual_output  \\\n",
       "0  These results suggest that the C1772T polymorp...           True   \n",
       "1  In our setting, @DISEASE$ among alcoholic indi...           True   \n",
       "2  MPO genotype GG is associated with @DISEASE$ i...           True   \n",
       "3  These three studies do not provide consistent ...           True   \n",
       "4  Our prospective findings suggest that individu...           True   \n",
       "\n",
       "  predicted_output  \n",
       "0             True  \n",
       "1             True  \n",
       "2             True  \n",
       "3             True  \n",
       "4             True  "
      ]
     },
     "execution_count": 264,
     "metadata": {},
     "output_type": "execute_result"
    }
   ],
   "source": [
    "gemma_gad_out = pd.read_csv(\"/home/016651544/gemma/test_df_10000_25_FT_model_gad_1_1_7b_gemma_5samples.csv\")\n",
    "gemma_gad_out.head()"
   ]
  },
  {
   "cell_type": "code",
   "execution_count": 265,
   "id": "eb06396e-342c-4fa3-a99a-be1ff3245b80",
   "metadata": {},
   "outputs": [
    {
     "name": "stderr",
     "output_type": "stream",
     "text": [
      "/tmp/ipykernel_124188/392949793.py:2: FutureWarning: Series.__getitem__ treating keys as positions is deprecated. In a future version, integer keys will always be treated as labels (consistent with DataFrame behavior). To access a value by position, use `ser.iloc[pos]`\n",
      "  if pd.isna(row[2]) :# or row[2].lower() == \"nan\":\n",
      "/tmp/ipykernel_124188/392949793.py:4: FutureWarning: Series.__getitem__ treating keys as positions is deprecated. In a future version, integer keys will always be treated as labels (consistent with DataFrame behavior). To access a value by position, use `ser.iloc[pos]`\n",
      "  elif \"true\" in row[2].lower():\n",
      "/tmp/ipykernel_124188/392949793.py:6: FutureWarning: Series.__getitem__ treating keys as positions is deprecated. In a future version, integer keys will always be treated as labels (consistent with DataFrame behavior). To access a value by position, use `ser.iloc[pos]`\n",
      "  elif \"false\" in row[2].lower():\n",
      "/tmp/ipykernel_124188/392949793.py:3: FutureWarning: Series.__getitem__ treating keys as positions is deprecated. In a future version, integer keys will always be treated as labels (consistent with DataFrame behavior). To access a value by position, use `ser.iloc[pos]`\n",
      "  return not row[1]\n",
      "/tmp/ipykernel_124188/392949793.py:9: FutureWarning: Series.__getitem__ treating keys as positions is deprecated. In a future version, integer keys will always be treated as labels (consistent with DataFrame behavior). To access a value by position, use `ser.iloc[pos]`\n",
      "  return not row[1]\n"
     ]
    }
   ],
   "source": [
    "gemma_gad_out.predicted_output = gemma_gad_out.apply(lambda x: change_nan(x),axis=1)"
   ]
  },
  {
   "cell_type": "code",
   "execution_count": 266,
   "id": "b5915633-59ad-46cb-adce-20d28f0d8c7e",
   "metadata": {},
   "outputs": [
    {
     "data": {
      "text/plain": [
       "(5330, 3)"
      ]
     },
     "execution_count": 266,
     "metadata": {},
     "output_type": "execute_result"
    }
   ],
   "source": [
    "gemma_gad_out.shape"
   ]
  },
  {
   "cell_type": "code",
   "execution_count": 267,
   "id": "a649234b-594d-4f36-9f68-2b9cbc391f65",
   "metadata": {},
   "outputs": [
    {
     "data": {
      "text/plain": [
       "predicted_output\n",
       "True     2745\n",
       "False    2585\n",
       "Name: count, dtype: int64"
      ]
     },
     "execution_count": 267,
     "metadata": {},
     "output_type": "execute_result"
    }
   ],
   "source": [
    "gemma_gad_out.predicted_output.value_counts()"
   ]
  },
  {
   "cell_type": "code",
   "execution_count": 268,
   "id": "f16d085c-0140-4a74-8f61-d99028423f61",
   "metadata": {},
   "outputs": [
    {
     "name": "stdout",
     "output_type": "stream",
     "text": [
      "sentence            0\n",
      "actual_output       0\n",
      "predicted_output    0\n",
      "dtype: int64\n"
     ]
    }
   ],
   "source": [
    "# gemma_gad_out.predicted_output.value_counts()\n",
    "print(gemma_gad_out.isna().sum())\n",
    "gemma_gad_out.dropna(inplace=True)"
   ]
  },
  {
   "cell_type": "code",
   "execution_count": 269,
   "id": "d0769306-7296-4d05-8969-619ba5abffea",
   "metadata": {},
   "outputs": [],
   "source": [
    "from sklearn.metrics import classification_report\n",
    "# Convert actual and predicted columns to boolean\n",
    "# gemma_gad_out['actual_output'] = gemma_gad_out['actual_output'].astype(str).str.upper()\n",
    "# gemma_gad_out['predicted_output'] = gemma_gad_out['predicted_output'].astype(str).str.upper()"
   ]
  },
  {
   "cell_type": "code",
   "execution_count": 270,
   "id": "9694763c-cf56-4c67-9f4f-4f9e27cd96f8",
   "metadata": {},
   "outputs": [
    {
     "data": {
      "text/html": [
       "<div>\n",
       "<style scoped>\n",
       "    .dataframe tbody tr th:only-of-type {\n",
       "        vertical-align: middle;\n",
       "    }\n",
       "\n",
       "    .dataframe tbody tr th {\n",
       "        vertical-align: top;\n",
       "    }\n",
       "\n",
       "    .dataframe thead th {\n",
       "        text-align: right;\n",
       "    }\n",
       "</style>\n",
       "<table border=\"1\" class=\"dataframe\">\n",
       "  <thead>\n",
       "    <tr style=\"text-align: right;\">\n",
       "      <th></th>\n",
       "      <th>sentence</th>\n",
       "      <th>actual_output</th>\n",
       "      <th>predicted_output</th>\n",
       "    </tr>\n",
       "  </thead>\n",
       "  <tbody>\n",
       "    <tr>\n",
       "      <th>0</th>\n",
       "      <td>These results suggest that the C1772T polymorp...</td>\n",
       "      <td>True</td>\n",
       "      <td>True</td>\n",
       "    </tr>\n",
       "    <tr>\n",
       "      <th>1</th>\n",
       "      <td>In our setting, @DISEASE$ among alcoholic indi...</td>\n",
       "      <td>True</td>\n",
       "      <td>True</td>\n",
       "    </tr>\n",
       "    <tr>\n",
       "      <th>2</th>\n",
       "      <td>MPO genotype GG is associated with @DISEASE$ i...</td>\n",
       "      <td>True</td>\n",
       "      <td>True</td>\n",
       "    </tr>\n",
       "    <tr>\n",
       "      <th>3</th>\n",
       "      <td>These three studies do not provide consistent ...</td>\n",
       "      <td>True</td>\n",
       "      <td>True</td>\n",
       "    </tr>\n",
       "    <tr>\n",
       "      <th>4</th>\n",
       "      <td>Our prospective findings suggest that individu...</td>\n",
       "      <td>True</td>\n",
       "      <td>True</td>\n",
       "    </tr>\n",
       "  </tbody>\n",
       "</table>\n",
       "</div>"
      ],
      "text/plain": [
       "                                            sentence  actual_output  \\\n",
       "0  These results suggest that the C1772T polymorp...           True   \n",
       "1  In our setting, @DISEASE$ among alcoholic indi...           True   \n",
       "2  MPO genotype GG is associated with @DISEASE$ i...           True   \n",
       "3  These three studies do not provide consistent ...           True   \n",
       "4  Our prospective findings suggest that individu...           True   \n",
       "\n",
       "   predicted_output  \n",
       "0              True  \n",
       "1              True  \n",
       "2              True  \n",
       "3              True  \n",
       "4              True  "
      ]
     },
     "execution_count": 270,
     "metadata": {},
     "output_type": "execute_result"
    }
   ],
   "source": [
    "gemma_gad_out.head()"
   ]
  },
  {
   "cell_type": "code",
   "execution_count": 272,
   "id": "25e2e53a-c4ad-4338-ae0e-fbeb09b80e8b",
   "metadata": {},
   "outputs": [],
   "source": [
    "# gemma_gad_out.to_csv(\"/home/016651544/model_predictions_files/gemma_7b_gad_predictions.csv\",index=False)\n"
   ]
  },
  {
   "cell_type": "code",
   "execution_count": 273,
   "id": "73d82a74-02ac-4079-81e1-2a252fc6d484",
   "metadata": {
    "scrolled": true
   },
   "outputs": [
    {
     "data": {
      "text/plain": [
       "(predicted_output\n",
       " True     2745\n",
       " False    2585\n",
       " Name: count, dtype: int64,\n",
       " actual_output\n",
       " True     2801\n",
       " False    2529\n",
       " Name: count, dtype: int64)"
      ]
     },
     "execution_count": 273,
     "metadata": {},
     "output_type": "execute_result"
    }
   ],
   "source": [
    "gemma_gad_out.predicted_output.value_counts(),gemma_gad_out.actual_output.value_counts(),\n"
   ]
  },
  {
   "cell_type": "code",
   "execution_count": 274,
   "id": "c18ff5f4-2f67-4844-8b08-12f9a208b805",
   "metadata": {},
   "outputs": [
    {
     "name": "stdout",
     "output_type": "stream",
     "text": [
      "/home/016651544/gemma\n"
     ]
    }
   ],
   "source": [
    "!pwd"
   ]
  },
  {
   "cell_type": "code",
   "execution_count": 275,
   "id": "2e1e2e2c-d36e-406f-9d6d-e584b92787de",
   "metadata": {},
   "outputs": [],
   "source": [
    "gemma_gad_out[gemma_gad_out.predicted_output != \"NAN\"].to_csv(\"/home/016651544/gemma/GAD_gemma_7b_output.csv\",index=False)"
   ]
  },
  {
   "cell_type": "code",
   "execution_count": 276,
   "id": "134c034c-9a84-437d-8730-fd4d52a0c889",
   "metadata": {},
   "outputs": [
    {
     "name": "stdout",
     "output_type": "stream",
     "text": [
      "Precision:  0.9786522356456084\n",
      "Recall:  0.9794695703350593\n",
      "F1 score:  0.9789523001071425\n",
      "              precision    recall  f1-score   support\n",
      "\n",
      "       False       0.97      0.99      0.98      2529\n",
      "        True       0.99      0.97      0.98      2801\n",
      "\n",
      "    accuracy                           0.98      5330\n",
      "   macro avg       0.98      0.98      0.98      5330\n",
      "weighted avg       0.98      0.98      0.98      5330\n",
      "\n"
     ]
    }
   ],
   "source": [
    "# Generate classification report\n",
    "from sklearn.metrics import precision_score, recall_score, f1_score\n",
    "actual = gemma_gad_out['actual_output']\n",
    "predicted = gemma_gad_out['predicted_output']\n",
    "# Calculate Precision, Recall, and F1 score\n",
    "precision = precision_score(actual, predicted, average='macro')\n",
    "recall = recall_score(actual, predicted, average='macro')\n",
    "f1 = f1_score(actual, predicted, average='macro')\n",
    "print(\"Precision: \",precision)\n",
    "print(\"Recall: \",recall)\n",
    "print(\"F1 score: \",f1)\n",
    "report = classification_report(gemma_gad_out['actual_output'], gemma_gad_out['predicted_output'])\n",
    "print(report)"
   ]
  },
  {
   "cell_type": "code",
   "execution_count": null,
   "id": "af9d9171-dd9a-4f12-a0d4-80d68dac34e2",
   "metadata": {},
   "outputs": [],
   "source": []
  },
  {
   "cell_type": "code",
   "execution_count": null,
   "id": "000e95fc-3682-4737-93bf-50c2398ebe0a",
   "metadata": {},
   "outputs": [],
   "source": []
  },
  {
   "cell_type": "markdown",
   "id": "ed2773d2-f3b9-42a7-9d5c-82e031f7807f",
   "metadata": {},
   "source": [
    "### GEMMA-2b - GAD"
   ]
  },
  {
   "cell_type": "code",
   "execution_count": 277,
   "id": "957affb3-521e-4674-8d23-53d0e76747b9",
   "metadata": {},
   "outputs": [
    {
     "data": {
      "text/html": [
       "<div>\n",
       "<style scoped>\n",
       "    .dataframe tbody tr th:only-of-type {\n",
       "        vertical-align: middle;\n",
       "    }\n",
       "\n",
       "    .dataframe tbody tr th {\n",
       "        vertical-align: top;\n",
       "    }\n",
       "\n",
       "    .dataframe thead th {\n",
       "        text-align: right;\n",
       "    }\n",
       "</style>\n",
       "<table border=\"1\" class=\"dataframe\">\n",
       "  <thead>\n",
       "    <tr style=\"text-align: right;\">\n",
       "      <th></th>\n",
       "      <th>sentence</th>\n",
       "      <th>actual_output</th>\n",
       "      <th>predicted_output</th>\n",
       "    </tr>\n",
       "  </thead>\n",
       "  <tbody>\n",
       "    <tr>\n",
       "      <th>0</th>\n",
       "      <td>These results suggest that the C1772T polymorp...</td>\n",
       "      <td>True</td>\n",
       "      <td>TRUE</td>\n",
       "    </tr>\n",
       "    <tr>\n",
       "      <th>1</th>\n",
       "      <td>In our setting, @DISEASE$ among alcoholic indi...</td>\n",
       "      <td>True</td>\n",
       "      <td>TRUE</td>\n",
       "    </tr>\n",
       "    <tr>\n",
       "      <th>2</th>\n",
       "      <td>MPO genotype GG is associated with @DISEASE$ i...</td>\n",
       "      <td>True</td>\n",
       "      <td>TRUE</td>\n",
       "    </tr>\n",
       "    <tr>\n",
       "      <th>3</th>\n",
       "      <td>These three studies do not provide consistent ...</td>\n",
       "      <td>True</td>\n",
       "      <td>TRUE</td>\n",
       "    </tr>\n",
       "    <tr>\n",
       "      <th>4</th>\n",
       "      <td>Our prospective findings suggest that individu...</td>\n",
       "      <td>True</td>\n",
       "      <td>FALSE</td>\n",
       "    </tr>\n",
       "  </tbody>\n",
       "</table>\n",
       "</div>"
      ],
      "text/plain": [
       "                                            sentence  actual_output  \\\n",
       "0  These results suggest that the C1772T polymorp...           True   \n",
       "1  In our setting, @DISEASE$ among alcoholic indi...           True   \n",
       "2  MPO genotype GG is associated with @DISEASE$ i...           True   \n",
       "3  These three studies do not provide consistent ...           True   \n",
       "4  Our prospective findings suggest that individu...           True   \n",
       "\n",
       "  predicted_output  \n",
       "0             TRUE  \n",
       "1             TRUE  \n",
       "2             TRUE  \n",
       "3             TRUE  \n",
       "4            FALSE  "
      ]
     },
     "execution_count": 277,
     "metadata": {},
     "output_type": "execute_result"
    }
   ],
   "source": [
    "import pandas as pd\n",
    "gemma_gad_out = pd.read_csv(\"/home/016651544/gemma/test_df_10000_25_FT_model_gad_base_gemma.csv\")\n",
    "gemma_gad_out.head()"
   ]
  },
  {
   "cell_type": "code",
   "execution_count": 278,
   "id": "41f734b3-871a-4373-b4d8-241615e56496",
   "metadata": {},
   "outputs": [
    {
     "name": "stderr",
     "output_type": "stream",
     "text": [
      "/tmp/ipykernel_124188/392949793.py:2: FutureWarning: Series.__getitem__ treating keys as positions is deprecated. In a future version, integer keys will always be treated as labels (consistent with DataFrame behavior). To access a value by position, use `ser.iloc[pos]`\n",
      "  if pd.isna(row[2]) :# or row[2].lower() == \"nan\":\n",
      "/tmp/ipykernel_124188/392949793.py:4: FutureWarning: Series.__getitem__ treating keys as positions is deprecated. In a future version, integer keys will always be treated as labels (consistent with DataFrame behavior). To access a value by position, use `ser.iloc[pos]`\n",
      "  elif \"true\" in row[2].lower():\n",
      "/tmp/ipykernel_124188/392949793.py:6: FutureWarning: Series.__getitem__ treating keys as positions is deprecated. In a future version, integer keys will always be treated as labels (consistent with DataFrame behavior). To access a value by position, use `ser.iloc[pos]`\n",
      "  elif \"false\" in row[2].lower():\n",
      "/tmp/ipykernel_124188/392949793.py:3: FutureWarning: Series.__getitem__ treating keys as positions is deprecated. In a future version, integer keys will always be treated as labels (consistent with DataFrame behavior). To access a value by position, use `ser.iloc[pos]`\n",
      "  return not row[1]\n",
      "/tmp/ipykernel_124188/392949793.py:9: FutureWarning: Series.__getitem__ treating keys as positions is deprecated. In a future version, integer keys will always be treated as labels (consistent with DataFrame behavior). To access a value by position, use `ser.iloc[pos]`\n",
      "  return not row[1]\n"
     ]
    }
   ],
   "source": [
    "gemma_gad_out.predicted_output = gemma_gad_out.apply(lambda x: change_nan(x),axis=1)\n"
   ]
  },
  {
   "cell_type": "code",
   "execution_count": 279,
   "id": "95e293a8-f462-4059-970d-58991b76c625",
   "metadata": {},
   "outputs": [
    {
     "data": {
      "text/plain": [
       "(5330, 3)"
      ]
     },
     "execution_count": 279,
     "metadata": {},
     "output_type": "execute_result"
    }
   ],
   "source": [
    "gemma_gad_out.shape"
   ]
  },
  {
   "cell_type": "code",
   "execution_count": 280,
   "id": "0d3b308e-b427-42fe-b0e9-fc3fcc763280",
   "metadata": {},
   "outputs": [],
   "source": [
    "# from sklearn.metrics import classification_report\n",
    "# # Convert actual and predicted columns to boolean\n",
    "# gemma_gad_out['actual_output'] = gemma_gad_out['actual_output'].astype(str).str.upper()\n",
    "# gemma_gad_out['predicted_output'] = gemma_gad_out['predicted_output'].astype(str).str.upper()"
   ]
  },
  {
   "cell_type": "code",
   "execution_count": 281,
   "id": "7c8b6ac5-1f2d-45f0-9354-ab78f71b82a4",
   "metadata": {},
   "outputs": [],
   "source": [
    "# gemma_gad_out.head()"
   ]
  },
  {
   "cell_type": "code",
   "execution_count": 282,
   "id": "3c46f21d-0a47-4efd-933f-0dac601564c8",
   "metadata": {},
   "outputs": [
    {
     "name": "stdout",
     "output_type": "stream",
     "text": [
      "sentence            0\n",
      "actual_output       0\n",
      "predicted_output    0\n",
      "dtype: int64\n"
     ]
    }
   ],
   "source": [
    "# gemma_gad_out.predicted_output.value_counts()\n",
    "print(gemma_gad_out.isna().sum())\n",
    "# gemma_gad_out.dropna(subset=['predicted_output'], axis=0)\n",
    "# gemma_gad_out = gemma_gad_out[gemma_gad_out['predicted_output'] != \"NAN\"]\n",
    "# gemma_gad_out.fillna(0,inplace=True)\n",
    "gemma_gad_out.dropna(inplace=True)\n"
   ]
  },
  {
   "cell_type": "code",
   "execution_count": 283,
   "id": "c8311a21-0151-49f3-94e3-1d70f42d2ead",
   "metadata": {},
   "outputs": [],
   "source": [
    "# gemma_gad_out.predicted_output.value_counts(),gemma_gad_out.actual_output.value_counts(),\n",
    "# gemma_gad_out = gemma_gad_out[gemma_gad_out.predicted_output != \"NAN\"]\n",
    "# gemma_gad_out.to_csv(\"/home/016651544/model_predictions_files/gemma_2b_gad_predictions.csv\",index=False)\n"
   ]
  },
  {
   "cell_type": "code",
   "execution_count": 249,
   "id": "b89bee6c-12e8-4f75-98b7-96a6c4046813",
   "metadata": {},
   "outputs": [
    {
     "name": "stdout",
     "output_type": "stream",
     "text": [
      "Precision:  0.7202341452434836\n",
      "Recall:  0.7000060278985828\n",
      "F1 score:  0.6976302661237676\n",
      "              precision    recall  f1-score   support\n",
      "\n",
      "       False       0.76      0.56      0.64      2529\n",
      "        True       0.68      0.84      0.75      2801\n",
      "\n",
      "    accuracy                           0.71      5330\n",
      "   macro avg       0.72      0.70      0.70      5330\n",
      "weighted avg       0.72      0.71      0.70      5330\n",
      "\n"
     ]
    }
   ],
   "source": [
    "# Generate classification report\n",
    "actual = gemma_gad_out['actual_output']\n",
    "predicted = gemma_gad_out['predicted_output']\n",
    "# Calculate Precision, Recall, and F1 score\n",
    "precision = precision_score(actual, predicted, average='macro')\n",
    "recall = recall_score(actual, predicted, average='macro')\n",
    "f1 = f1_score(actual, predicted, average='macro')\n",
    "print(\"Precision: \",precision)\n",
    "print(\"Recall: \",recall)\n",
    "print(\"F1 score: \",f1)\n",
    "report = classification_report(gemma_gad_out['actual_output'], gemma_gad_out['predicted_output'])\n",
    "print(report)"
   ]
  },
  {
   "cell_type": "code",
   "execution_count": 250,
   "id": "5a9742b8-e4c1-4ca0-852e-abdec3b71261",
   "metadata": {},
   "outputs": [],
   "source": [
    "# (84 + 56)/2"
   ]
  },
  {
   "cell_type": "code",
   "execution_count": 251,
   "id": "317abb8c-ad57-4c42-96da-a2ece5fad4ee",
   "metadata": {},
   "outputs": [],
   "source": [
    "# gemma_gad_out[gemma_gad_out.predicted_output != \"NAN\"].to_csv(\"/home/016651544/gemma/GAD_gemma_2b_output.csv\",index=False)\n"
   ]
  },
  {
   "cell_type": "code",
   "execution_count": null,
   "id": "be43dbd2-2ac9-4c6c-ab83-c3a35755d241",
   "metadata": {},
   "outputs": [],
   "source": []
  }
 ],
 "metadata": {
  "kernelspec": {
   "display_name": "llama2",
   "language": "python",
   "name": "llama2"
  },
  "language_info": {
   "codemirror_mode": {
    "name": "ipython",
    "version": 3
   },
   "file_extension": ".py",
   "mimetype": "text/x-python",
   "name": "python",
   "nbconvert_exporter": "python",
   "pygments_lexer": "ipython3",
   "version": "3.10.14"
  }
 },
 "nbformat": 4,
 "nbformat_minor": 5
}
