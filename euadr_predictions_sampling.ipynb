{
 "cells": [
  {
   "cell_type": "code",
   "execution_count": 44,
   "id": "22029306-6d28-436f-9cab-ba34bb979acb",
   "metadata": {},
   "outputs": [],
   "source": [
    "import pandas as pd\n",
    "import numpy as np\n",
    "euadr_dataset = pd.read_csv('./EUADR_target_disease.csv',encoding = \"ISO-8859-1\",sep=\"\\t\")"
   ]
  },
  {
   "cell_type": "code",
   "execution_count": 45,
   "id": "b3ac0b92-0040-4518-aab6-6f7ea93a6666",
   "metadata": {},
   "outputs": [
    {
     "data": {
      "text/html": [
       "<div>\n",
       "<style scoped>\n",
       "    .dataframe tbody tr th:only-of-type {\n",
       "        vertical-align: middle;\n",
       "    }\n",
       "\n",
       "    .dataframe tbody tr th {\n",
       "        vertical-align: top;\n",
       "    }\n",
       "\n",
       "    .dataframe thead th {\n",
       "        text-align: right;\n",
       "    }\n",
       "</style>\n",
       "<table border=\"1\" class=\"dataframe\">\n",
       "  <thead>\n",
       "    <tr style=\"text-align: right;\">\n",
       "      <th></th>\n",
       "      <th>ASSOCIATION_TYPE</th>\n",
       "      <th>PMID</th>\n",
       "      <th>NUM_SENTENCE</th>\n",
       "      <th>ENTITY1_TEXT</th>\n",
       "      <th>ENTITY1_INI</th>\n",
       "      <th>ENTITY1_END</th>\n",
       "      <th>ENTITY1_TYPE</th>\n",
       "      <th>ENTITY2_TEXT</th>\n",
       "      <th>ENTITY2_INI</th>\n",
       "      <th>ENTITY2_END</th>\n",
       "      <th>ENTITY2_TYPE</th>\n",
       "      <th>SENTENCE</th>\n",
       "    </tr>\n",
       "  </thead>\n",
       "  <tbody>\n",
       "    <tr>\n",
       "      <th>0</th>\n",
       "      <td>SA</td>\n",
       "      <td>17241106</td>\n",
       "      <td>16</td>\n",
       "      <td>LRP5</td>\n",
       "      <td>19</td>\n",
       "      <td>23</td>\n",
       "      <td>Genes &amp; Molecular Sequences</td>\n",
       "      <td>osteoporosis</td>\n",
       "      <td>80</td>\n",
       "      <td>92</td>\n",
       "      <td>Diseases &amp; Disorders</td>\n",
       "      <td>Our work supported LRP5 genetic variants as po...</td>\n",
       "    </tr>\n",
       "    <tr>\n",
       "      <th>1</th>\n",
       "      <td>SA</td>\n",
       "      <td>17241106</td>\n",
       "      <td>17</td>\n",
       "      <td>rs491347</td>\n",
       "      <td>20</td>\n",
       "      <td>28</td>\n",
       "      <td>SNP &amp; Sequence variations</td>\n",
       "      <td>osteoporosis</td>\n",
       "      <td>108</td>\n",
       "      <td>120</td>\n",
       "      <td>Diseases &amp; Disorders</td>\n",
       "      <td>Especially, the SNP rs491347 and its strongly ...</td>\n",
       "    </tr>\n",
       "    <tr>\n",
       "      <th>2</th>\n",
       "      <td>SA</td>\n",
       "      <td>17241106</td>\n",
       "      <td>17</td>\n",
       "      <td>rs1784235</td>\n",
       "      <td>69</td>\n",
       "      <td>78</td>\n",
       "      <td>SNP &amp; Sequence variations</td>\n",
       "      <td>osteoporosis</td>\n",
       "      <td>108</td>\n",
       "      <td>120</td>\n",
       "      <td>Diseases &amp; Disorders</td>\n",
       "      <td>Especially, the SNP rs491347 and its strongly ...</td>\n",
       "    </tr>\n",
       "    <tr>\n",
       "      <th>3</th>\n",
       "      <td>FA</td>\n",
       "      <td>18697826</td>\n",
       "      <td>0</td>\n",
       "      <td>fetal haemoglobin</td>\n",
       "      <td>93</td>\n",
       "      <td>110</td>\n",
       "      <td>Genes &amp; Molecular Sequences</td>\n",
       "      <td>beta-thalassaemia</td>\n",
       "      <td>132</td>\n",
       "      <td>149</td>\n",
       "      <td>Diseases &amp; Disorders</td>\n",
       "      <td>The HBS1L-MYB intergenic region on chromosome ...</td>\n",
       "    </tr>\n",
       "    <tr>\n",
       "      <th>4</th>\n",
       "      <td>PA</td>\n",
       "      <td>18697826</td>\n",
       "      <td>1</td>\n",
       "      <td>HbF</td>\n",
       "      <td>19</td>\n",
       "      <td>22</td>\n",
       "      <td>Genes &amp; Molecular Sequences</td>\n",
       "      <td>HBB disorders</td>\n",
       "      <td>64</td>\n",
       "      <td>77</td>\n",
       "      <td>Diseases &amp; Disorders</td>\n",
       "      <td>Fetal haemoglobin (HbF) level modifies the cli...</td>\n",
       "    </tr>\n",
       "    <tr>\n",
       "      <th>...</th>\n",
       "      <td>...</td>\n",
       "      <td>...</td>\n",
       "      <td>...</td>\n",
       "      <td>...</td>\n",
       "      <td>...</td>\n",
       "      <td>...</td>\n",
       "      <td>...</td>\n",
       "      <td>...</td>\n",
       "      <td>...</td>\n",
       "      <td>...</td>\n",
       "      <td>...</td>\n",
       "      <td>...</td>\n",
       "    </tr>\n",
       "    <tr>\n",
       "      <th>350</th>\n",
       "      <td>PA</td>\n",
       "      <td>19110009</td>\n",
       "      <td>13</td>\n",
       "      <td>fetuin-A</td>\n",
       "      <td>5</td>\n",
       "      <td>13</td>\n",
       "      <td>Genes &amp; Molecular Sequences</td>\n",
       "      <td>aortic stiffness</td>\n",
       "      <td>60</td>\n",
       "      <td>76</td>\n",
       "      <td>Diseases &amp; Disorders</td>\n",
       "      <td>Male fetuin-A SerSer carriers demonstrate part...</td>\n",
       "    </tr>\n",
       "    <tr>\n",
       "      <th>351</th>\n",
       "      <td>PA</td>\n",
       "      <td>19110009</td>\n",
       "      <td>4</td>\n",
       "      <td>fetuin-A</td>\n",
       "      <td>4</td>\n",
       "      <td>12</td>\n",
       "      <td>Genes &amp; Molecular Sequences</td>\n",
       "      <td>vascular calcification</td>\n",
       "      <td>95</td>\n",
       "      <td>117</td>\n",
       "      <td>Diseases &amp; Disorders</td>\n",
       "      <td>The fetuin-A polymorphism (Thr256Ser) is assoc...</td>\n",
       "    </tr>\n",
       "    <tr>\n",
       "      <th>352</th>\n",
       "      <td>PA</td>\n",
       "      <td>19110611</td>\n",
       "      <td>2</td>\n",
       "      <td>EGFR</td>\n",
       "      <td>0</td>\n",
       "      <td>4</td>\n",
       "      <td>Genes &amp; Molecular Sequences</td>\n",
       "      <td>pancreatic adenocarcinoma</td>\n",
       "      <td>24</td>\n",
       "      <td>49</td>\n",
       "      <td>Diseases &amp; Disorders</td>\n",
       "      <td>EGFR gene expression in pancreatic adenocarcin...</td>\n",
       "    </tr>\n",
       "    <tr>\n",
       "      <th>353</th>\n",
       "      <td>PA</td>\n",
       "      <td>19110611</td>\n",
       "      <td>0</td>\n",
       "      <td>epidermal growth factor</td>\n",
       "      <td>8</td>\n",
       "      <td>31</td>\n",
       "      <td>Genes &amp; Molecular Sequences</td>\n",
       "      <td>pancreatic carcinoma</td>\n",
       "      <td>139</td>\n",
       "      <td>159</td>\n",
       "      <td>Diseases &amp; Disorders</td>\n",
       "      <td>Role of epidermal growth factor gene in the de...</td>\n",
       "    </tr>\n",
       "    <tr>\n",
       "      <th>354</th>\n",
       "      <td>PA</td>\n",
       "      <td>19110611</td>\n",
       "      <td>3</td>\n",
       "      <td>EGF</td>\n",
       "      <td>62</td>\n",
       "      <td>65</td>\n",
       "      <td>Genes &amp; Molecular Sequences</td>\n",
       "      <td>pancreatic cancer</td>\n",
       "      <td>127</td>\n",
       "      <td>144</td>\n",
       "      <td>Diseases &amp; Disorders</td>\n",
       "      <td>On the other hand, AA genome and A allele poly...</td>\n",
       "    </tr>\n",
       "  </tbody>\n",
       "</table>\n",
       "<p>355 rows × 12 columns</p>\n",
       "</div>"
      ],
      "text/plain": [
       "    ASSOCIATION_TYPE      PMID  NUM_SENTENCE             ENTITY1_TEXT  \\\n",
       "0                 SA  17241106            16                     LRP5   \n",
       "1                 SA  17241106            17                 rs491347   \n",
       "2                 SA  17241106            17                rs1784235   \n",
       "3                 FA  18697826             0        fetal haemoglobin   \n",
       "4                 PA  18697826             1                      HbF   \n",
       "..               ...       ...           ...                      ...   \n",
       "350               PA  19110009            13                 fetuin-A   \n",
       "351               PA  19110009             4                 fetuin-A   \n",
       "352               PA  19110611             2                     EGFR   \n",
       "353               PA  19110611             0  epidermal growth factor   \n",
       "354               PA  19110611             3                      EGF   \n",
       "\n",
       "     ENTITY1_INI  ENTITY1_END                 ENTITY1_TYPE  \\\n",
       "0             19           23  Genes & Molecular Sequences   \n",
       "1             20           28    SNP & Sequence variations   \n",
       "2             69           78    SNP & Sequence variations   \n",
       "3             93          110  Genes & Molecular Sequences   \n",
       "4             19           22  Genes & Molecular Sequences   \n",
       "..           ...          ...                          ...   \n",
       "350            5           13  Genes & Molecular Sequences   \n",
       "351            4           12  Genes & Molecular Sequences   \n",
       "352            0            4  Genes & Molecular Sequences   \n",
       "353            8           31  Genes & Molecular Sequences   \n",
       "354           62           65  Genes & Molecular Sequences   \n",
       "\n",
       "                  ENTITY2_TEXT  ENTITY2_INI  ENTITY2_END  \\\n",
       "0                 osteoporosis           80           92   \n",
       "1                 osteoporosis          108          120   \n",
       "2                 osteoporosis          108          120   \n",
       "3            beta-thalassaemia          132          149   \n",
       "4                HBB disorders           64           77   \n",
       "..                         ...          ...          ...   \n",
       "350           aortic stiffness           60           76   \n",
       "351     vascular calcification           95          117   \n",
       "352  pancreatic adenocarcinoma           24           49   \n",
       "353       pancreatic carcinoma          139          159   \n",
       "354          pancreatic cancer          127          144   \n",
       "\n",
       "             ENTITY2_TYPE                                           SENTENCE  \n",
       "0    Diseases & Disorders  Our work supported LRP5 genetic variants as po...  \n",
       "1    Diseases & Disorders  Especially, the SNP rs491347 and its strongly ...  \n",
       "2    Diseases & Disorders  Especially, the SNP rs491347 and its strongly ...  \n",
       "3    Diseases & Disorders  The HBS1L-MYB intergenic region on chromosome ...  \n",
       "4    Diseases & Disorders  Fetal haemoglobin (HbF) level modifies the cli...  \n",
       "..                    ...                                                ...  \n",
       "350  Diseases & Disorders  Male fetuin-A SerSer carriers demonstrate part...  \n",
       "351  Diseases & Disorders  The fetuin-A polymorphism (Thr256Ser) is assoc...  \n",
       "352  Diseases & Disorders  EGFR gene expression in pancreatic adenocarcin...  \n",
       "353  Diseases & Disorders  Role of epidermal growth factor gene in the de...  \n",
       "354  Diseases & Disorders  On the other hand, AA genome and A allele poly...  \n",
       "\n",
       "[355 rows x 12 columns]"
      ]
     },
     "execution_count": 45,
     "metadata": {},
     "output_type": "execute_result"
    }
   ],
   "source": [
    "euadr_dataset"
   ]
  },
  {
   "cell_type": "code",
   "execution_count": 46,
   "id": "8bd261ec-4fa0-4095-bc71-083cbbde112e",
   "metadata": {},
   "outputs": [
    {
     "data": {
      "text/plain": [
       "ASSOCIATION_TYPE\n",
       "PA    213\n",
       "FA     93\n",
       "SA     30\n",
       "Name: count, dtype: int64"
      ]
     },
     "execution_count": 46,
     "metadata": {},
     "output_type": "execute_result"
    }
   ],
   "source": [
    "euadr_dataset.ASSOCIATION_TYPE.value_counts()"
   ]
  },
  {
   "cell_type": "code",
   "execution_count": 47,
   "id": "0390104d-be15-48d3-ab0d-9db05393af2c",
   "metadata": {},
   "outputs": [],
   "source": [
    "df =euadr_dataset.copy()"
   ]
  },
  {
   "cell_type": "code",
   "execution_count": 75,
   "id": "8fb1befa-2876-4980-b077-3ba127b557f1",
   "metadata": {},
   "outputs": [
    {
     "data": {
      "text/html": [
       "<div>\n",
       "<style scoped>\n",
       "    .dataframe tbody tr th:only-of-type {\n",
       "        vertical-align: middle;\n",
       "    }\n",
       "\n",
       "    .dataframe tbody tr th {\n",
       "        vertical-align: top;\n",
       "    }\n",
       "\n",
       "    .dataframe thead th {\n",
       "        text-align: right;\n",
       "    }\n",
       "</style>\n",
       "<table border=\"1\" class=\"dataframe\">\n",
       "  <thead>\n",
       "    <tr style=\"text-align: right;\">\n",
       "      <th></th>\n",
       "      <th>sentence</th>\n",
       "      <th>label</th>\n",
       "    </tr>\n",
       "  </thead>\n",
       "  <tbody>\n",
       "    <tr>\n",
       "      <th>0</th>\n",
       "      <td>These results suggest that the C1772T polymorp...</td>\n",
       "      <td>True</td>\n",
       "    </tr>\n",
       "    <tr>\n",
       "      <th>1</th>\n",
       "      <td>In our setting, @DISEASE$ among alcoholic indi...</td>\n",
       "      <td>True</td>\n",
       "    </tr>\n",
       "    <tr>\n",
       "      <th>2</th>\n",
       "      <td>MPO genotype GG is associated with @DISEASE$ i...</td>\n",
       "      <td>True</td>\n",
       "    </tr>\n",
       "    <tr>\n",
       "      <th>3</th>\n",
       "      <td>These three studies do not provide consistent ...</td>\n",
       "      <td>True</td>\n",
       "    </tr>\n",
       "    <tr>\n",
       "      <th>4</th>\n",
       "      <td>Our prospective findings suggest that individu...</td>\n",
       "      <td>True</td>\n",
       "    </tr>\n",
       "  </tbody>\n",
       "</table>\n",
       "</div>"
      ],
      "text/plain": [
       "                                            sentence  label\n",
       "0  These results suggest that the C1772T polymorp...   True\n",
       "1  In our setting, @DISEASE$ among alcoholic indi...   True\n",
       "2  MPO genotype GG is associated with @DISEASE$ i...   True\n",
       "3  These three studies do not provide consistent ...   True\n",
       "4  Our prospective findings suggest that individu...   True"
      ]
     },
     "execution_count": 75,
     "metadata": {},
     "output_type": "execute_result"
    }
   ],
   "source": [
    "import pandas as pd\n",
    "df_train = pd.read_csv(\"/home/016651544/gemma/datasets/gad/test_data.tsv\",sep= \"\\t\")\n",
    "df_train.head()"
   ]
  },
  {
   "cell_type": "code",
   "execution_count": 76,
   "id": "9ddd23ab-9e95-440b-bc4a-80a09bdc49f4",
   "metadata": {},
   "outputs": [
    {
     "data": {
      "text/plain": [
       "label\n",
       "True     2801\n",
       "False    2529\n",
       "Name: count, dtype: int64"
      ]
     },
     "execution_count": 76,
     "metadata": {},
     "output_type": "execute_result"
    }
   ],
   "source": [
    "df_train.label.value_counts()"
   ]
  },
  {
   "cell_type": "code",
   "execution_count": 77,
   "id": "4ee30761-6690-4916-9c1b-dfb23711a973",
   "metadata": {},
   "outputs": [
    {
     "data": {
      "text/plain": [
       "(5330, 2)"
      ]
     },
     "execution_count": 77,
     "metadata": {},
     "output_type": "execute_result"
    }
   ],
   "source": [
    "df_train.shape"
   ]
  },
  {
   "cell_type": "code",
   "execution_count": 78,
   "id": "2e8c7166-068e-44d9-a5b4-eabe28a374f0",
   "metadata": {},
   "outputs": [],
   "source": [
    "df_2 = pd.read_csv(\"/home/016651544/llama2_euadr/test_df_10_25_FT_model_euadr.csv\")"
   ]
  },
  {
   "cell_type": "code",
   "execution_count": 51,
   "id": "4895b48a-901a-4a4b-a49f-c9123ec72297",
   "metadata": {},
   "outputs": [
    {
     "data": {
      "text/plain": [
       "Index(['sentence', 'actual_output', 'predicted_output'], dtype='object')"
      ]
     },
     "execution_count": 51,
     "metadata": {},
     "output_type": "execute_result"
    }
   ],
   "source": [
    "df_2.columns"
   ]
  },
  {
   "cell_type": "code",
   "execution_count": 52,
   "id": "26ef7ee8-7a03-4948-aca1-c83761b18ecb",
   "metadata": {},
   "outputs": [
    {
     "data": {
      "text/html": [
       "<div>\n",
       "<style scoped>\n",
       "    .dataframe tbody tr th:only-of-type {\n",
       "        vertical-align: middle;\n",
       "    }\n",
       "\n",
       "    .dataframe tbody tr th {\n",
       "        vertical-align: top;\n",
       "    }\n",
       "\n",
       "    .dataframe thead th {\n",
       "        text-align: right;\n",
       "    }\n",
       "</style>\n",
       "<table border=\"1\" class=\"dataframe\">\n",
       "  <thead>\n",
       "    <tr style=\"text-align: right;\">\n",
       "      <th></th>\n",
       "      <th>sentence</th>\n",
       "      <th>actual_output</th>\n",
       "      <th>predicted_output</th>\n",
       "    </tr>\n",
       "  </thead>\n",
       "  <tbody>\n",
       "    <tr>\n",
       "      <th>0</th>\n",
       "      <td>Our work supported @GENE$ genetic variants as ...</td>\n",
       "      <td>True</td>\n",
       "      <td>True</td>\n",
       "    </tr>\n",
       "    <tr>\n",
       "      <th>1</th>\n",
       "      <td>Especially, the SNP @GENE$ and its strongly as...</td>\n",
       "      <td>True</td>\n",
       "      <td>True</td>\n",
       "    </tr>\n",
       "    <tr>\n",
       "      <th>2</th>\n",
       "      <td>Especially, the SNP rs491347 and its strongly ...</td>\n",
       "      <td>True</td>\n",
       "      <td>True</td>\n",
       "    </tr>\n",
       "    <tr>\n",
       "      <th>3</th>\n",
       "      <td>The HBS1L-MYB intergenic region on chromosome ...</td>\n",
       "      <td>False</td>\n",
       "      <td>False</td>\n",
       "    </tr>\n",
       "    <tr>\n",
       "      <th>4</th>\n",
       "      <td>Fetal haemoglobin (@GENE$) level modifies the ...</td>\n",
       "      <td>True</td>\n",
       "      <td>True</td>\n",
       "    </tr>\n",
       "  </tbody>\n",
       "</table>\n",
       "</div>"
      ],
      "text/plain": [
       "                                            sentence  actual_output  \\\n",
       "0  Our work supported @GENE$ genetic variants as ...           True   \n",
       "1  Especially, the SNP @GENE$ and its strongly as...           True   \n",
       "2  Especially, the SNP rs491347 and its strongly ...           True   \n",
       "3  The HBS1L-MYB intergenic region on chromosome ...          False   \n",
       "4  Fetal haemoglobin (@GENE$) level modifies the ...           True   \n",
       "\n",
       "   predicted_output  \n",
       "0              True  \n",
       "1              True  \n",
       "2              True  \n",
       "3             False  \n",
       "4              True  "
      ]
     },
     "execution_count": 52,
     "metadata": {},
     "output_type": "execute_result"
    }
   ],
   "source": [
    "df_2.head()"
   ]
  },
  {
   "cell_type": "code",
   "execution_count": 53,
   "id": "e90ff17d-ff89-4917-8f77-6751f08b8aa9",
   "metadata": {},
   "outputs": [
    {
     "data": {
      "text/html": [
       "<div>\n",
       "<style scoped>\n",
       "    .dataframe tbody tr th:only-of-type {\n",
       "        vertical-align: middle;\n",
       "    }\n",
       "\n",
       "    .dataframe tbody tr th {\n",
       "        vertical-align: top;\n",
       "    }\n",
       "\n",
       "    .dataframe thead th {\n",
       "        text-align: right;\n",
       "    }\n",
       "</style>\n",
       "<table border=\"1\" class=\"dataframe\">\n",
       "  <thead>\n",
       "    <tr style=\"text-align: right;\">\n",
       "      <th></th>\n",
       "      <th>SENTENCE</th>\n",
       "      <th>SENTENCE_MASKED</th>\n",
       "      <th>ASSOCIATION_TYPE</th>\n",
       "    </tr>\n",
       "  </thead>\n",
       "  <tbody>\n",
       "    <tr>\n",
       "      <th>0</th>\n",
       "      <td>Our work supported LRP5 genetic variants as po...</td>\n",
       "      <td>Our work supported @GENE$ genetic variants as ...</td>\n",
       "      <td>SA</td>\n",
       "    </tr>\n",
       "    <tr>\n",
       "      <th>1</th>\n",
       "      <td>Especially, the SNP rs491347 and its strongly ...</td>\n",
       "      <td>Especially, the SNP @DISEASE$ and its strongly...</td>\n",
       "      <td>SA</td>\n",
       "    </tr>\n",
       "    <tr>\n",
       "      <th>2</th>\n",
       "      <td>Especially, the SNP rs491347 and its strongly ...</td>\n",
       "      <td>Especially, the SNP rs491347 and its strongly ...</td>\n",
       "      <td>SA</td>\n",
       "    </tr>\n",
       "    <tr>\n",
       "      <th>3</th>\n",
       "      <td>The HBS1L-MYB intergenic region on chromosome ...</td>\n",
       "      <td>The HBS1L-MYB intergenic region on chromosome ...</td>\n",
       "      <td>FA</td>\n",
       "    </tr>\n",
       "    <tr>\n",
       "      <th>4</th>\n",
       "      <td>Fetal haemoglobin (HbF) level modifies the cli...</td>\n",
       "      <td>Fetal haemoglobin (@GENE$) level modifies the ...</td>\n",
       "      <td>PA</td>\n",
       "    </tr>\n",
       "    <tr>\n",
       "      <th>...</th>\n",
       "      <td>...</td>\n",
       "      <td>...</td>\n",
       "      <td>...</td>\n",
       "    </tr>\n",
       "    <tr>\n",
       "      <th>350</th>\n",
       "      <td>Male fetuin-A SerSer carriers demonstrate part...</td>\n",
       "      <td>Male @GENE$ SerSer carriers demonstrate partic...</td>\n",
       "      <td>PA</td>\n",
       "    </tr>\n",
       "    <tr>\n",
       "      <th>351</th>\n",
       "      <td>The fetuin-A polymorphism (Thr256Ser) is assoc...</td>\n",
       "      <td>The @GENE$ polymorphism (Thr256Ser) is associa...</td>\n",
       "      <td>PA</td>\n",
       "    </tr>\n",
       "    <tr>\n",
       "      <th>352</th>\n",
       "      <td>EGFR gene expression in pancreatic adenocarcin...</td>\n",
       "      <td>@GENE$ gene expression in @DISEASE$ cells sign...</td>\n",
       "      <td>PA</td>\n",
       "    </tr>\n",
       "    <tr>\n",
       "      <th>353</th>\n",
       "      <td>Role of epidermal growth factor gene in the de...</td>\n",
       "      <td>Role of @GENE$ gene in the development of panc...</td>\n",
       "      <td>PA</td>\n",
       "    </tr>\n",
       "    <tr>\n",
       "      <th>354</th>\n",
       "      <td>On the other hand, AA genome and A allele poly...</td>\n",
       "      <td>On the other hand, AA genome and A allele poly...</td>\n",
       "      <td>PA</td>\n",
       "    </tr>\n",
       "  </tbody>\n",
       "</table>\n",
       "<p>355 rows × 3 columns</p>\n",
       "</div>"
      ],
      "text/plain": [
       "                                              SENTENCE  \\\n",
       "0    Our work supported LRP5 genetic variants as po...   \n",
       "1    Especially, the SNP rs491347 and its strongly ...   \n",
       "2    Especially, the SNP rs491347 and its strongly ...   \n",
       "3    The HBS1L-MYB intergenic region on chromosome ...   \n",
       "4    Fetal haemoglobin (HbF) level modifies the cli...   \n",
       "..                                                 ...   \n",
       "350  Male fetuin-A SerSer carriers demonstrate part...   \n",
       "351  The fetuin-A polymorphism (Thr256Ser) is assoc...   \n",
       "352  EGFR gene expression in pancreatic adenocarcin...   \n",
       "353  Role of epidermal growth factor gene in the de...   \n",
       "354  On the other hand, AA genome and A allele poly...   \n",
       "\n",
       "                                       SENTENCE_MASKED ASSOCIATION_TYPE  \n",
       "0    Our work supported @GENE$ genetic variants as ...               SA  \n",
       "1    Especially, the SNP @DISEASE$ and its strongly...               SA  \n",
       "2    Especially, the SNP rs491347 and its strongly ...               SA  \n",
       "3    The HBS1L-MYB intergenic region on chromosome ...               FA  \n",
       "4    Fetal haemoglobin (@GENE$) level modifies the ...               PA  \n",
       "..                                                 ...              ...  \n",
       "350  Male @GENE$ SerSer carriers demonstrate partic...               PA  \n",
       "351  The @GENE$ polymorphism (Thr256Ser) is associa...               PA  \n",
       "352  @GENE$ gene expression in @DISEASE$ cells sign...               PA  \n",
       "353  Role of @GENE$ gene in the development of panc...               PA  \n",
       "354  On the other hand, AA genome and A allele poly...               PA  \n",
       "\n",
       "[355 rows x 3 columns]"
      ]
     },
     "execution_count": 53,
     "metadata": {},
     "output_type": "execute_result"
    }
   ],
   "source": [
    "# Function to mask entities in a sentence\n",
    "def mask_entities(sentence, ent1_text, ent1_ini, ent1_end, ent1_type, ent2_text, ent2_ini, ent2_end, ent2_type):\n",
    "    # Sort entities by their position to avoid offset issues when replacing\n",
    "    entities = sorted(\n",
    "        [(ent1_text, ent1_ini, ent1_end, ent1_type), \n",
    "         (ent2_text, ent2_ini, ent2_end, ent2_type)], \n",
    "        key=lambda x: x[1], reverse=True\n",
    "    )\n",
    "    \n",
    "    # Replace entities starting from the end of the sentence\n",
    "    for text, start, end, etype in entities:\n",
    "        mask = '@GENE$' if 'Gene' in etype else '@DISEASE$'\n",
    "        sentence = sentence[:start] + mask + sentence[end:]\n",
    "        \n",
    "    return sentence\n",
    "\n",
    "# Apply the masking function to each row\n",
    "df['SENTENCE_MASKED'] = df.apply(lambda x: mask_entities(\n",
    "    x['SENTENCE'], x['ENTITY1_TEXT'], x['ENTITY1_INI'], x['ENTITY1_END'], x['ENTITY1_TYPE'],\n",
    "    x['ENTITY2_TEXT'], x['ENTITY2_INI'], x['ENTITY2_END'], x['ENTITY2_TYPE']\n",
    "), axis=1)\n",
    "\n",
    "df[['SENTENCE', 'SENTENCE_MASKED',\"ASSOCIATION_TYPE\"]]"
   ]
  },
  {
   "cell_type": "code",
   "execution_count": 61,
   "id": "d85c8cde-61bb-4125-9de0-7453e5e8142b",
   "metadata": {},
   "outputs": [],
   "source": [
    "euadr_unmasked = pd.concat([df[['SENTENCE', 'SENTENCE_MASKED',\"ASSOCIATION_TYPE\",\"ENTITY1_TEXT\",\"ENTITY2_TEXT\"]], df_2[[\"actual_output\",\"predicted_output\"]]], axis = 1)#.rename(columns = {\"sentence\":\"SENTENCE\"})],axis = 0 )\n",
    "# pd.merge(df[['SENTENCE', 'SENTENCE_MASKED',\"ASSOCIATION_TYPE\"]], df_2.rename(columns = {\"sentence\":\"SENTENCE\"}), on =['SENTENCE'], how='left' )"
   ]
  },
  {
   "cell_type": "code",
   "execution_count": 62,
   "id": "bd0245b6-0890-4a89-8484-35bdc2ea643b",
   "metadata": {},
   "outputs": [
    {
     "data": {
      "text/html": [
       "<div>\n",
       "<style scoped>\n",
       "    .dataframe tbody tr th:only-of-type {\n",
       "        vertical-align: middle;\n",
       "    }\n",
       "\n",
       "    .dataframe tbody tr th {\n",
       "        vertical-align: top;\n",
       "    }\n",
       "\n",
       "    .dataframe thead th {\n",
       "        text-align: right;\n",
       "    }\n",
       "</style>\n",
       "<table border=\"1\" class=\"dataframe\">\n",
       "  <thead>\n",
       "    <tr style=\"text-align: right;\">\n",
       "      <th></th>\n",
       "      <th>SENTENCE</th>\n",
       "      <th>SENTENCE_MASKED</th>\n",
       "      <th>ASSOCIATION_TYPE</th>\n",
       "      <th>ENTITY1_TEXT</th>\n",
       "      <th>ENTITY2_TEXT</th>\n",
       "      <th>actual_output</th>\n",
       "      <th>predicted_output</th>\n",
       "    </tr>\n",
       "  </thead>\n",
       "  <tbody>\n",
       "    <tr>\n",
       "      <th>0</th>\n",
       "      <td>Our work supported LRP5 genetic variants as po...</td>\n",
       "      <td>Our work supported @GENE$ genetic variants as ...</td>\n",
       "      <td>SA</td>\n",
       "      <td>LRP5</td>\n",
       "      <td>osteoporosis</td>\n",
       "      <td>True</td>\n",
       "      <td>True</td>\n",
       "    </tr>\n",
       "    <tr>\n",
       "      <th>1</th>\n",
       "      <td>Especially, the SNP rs491347 and its strongly ...</td>\n",
       "      <td>Especially, the SNP @DISEASE$ and its strongly...</td>\n",
       "      <td>SA</td>\n",
       "      <td>rs491347</td>\n",
       "      <td>osteoporosis</td>\n",
       "      <td>True</td>\n",
       "      <td>True</td>\n",
       "    </tr>\n",
       "    <tr>\n",
       "      <th>2</th>\n",
       "      <td>Especially, the SNP rs491347 and its strongly ...</td>\n",
       "      <td>Especially, the SNP rs491347 and its strongly ...</td>\n",
       "      <td>SA</td>\n",
       "      <td>rs1784235</td>\n",
       "      <td>osteoporosis</td>\n",
       "      <td>True</td>\n",
       "      <td>True</td>\n",
       "    </tr>\n",
       "    <tr>\n",
       "      <th>3</th>\n",
       "      <td>The HBS1L-MYB intergenic region on chromosome ...</td>\n",
       "      <td>The HBS1L-MYB intergenic region on chromosome ...</td>\n",
       "      <td>FA</td>\n",
       "      <td>fetal haemoglobin</td>\n",
       "      <td>beta-thalassaemia</td>\n",
       "      <td>False</td>\n",
       "      <td>False</td>\n",
       "    </tr>\n",
       "    <tr>\n",
       "      <th>4</th>\n",
       "      <td>Fetal haemoglobin (HbF) level modifies the cli...</td>\n",
       "      <td>Fetal haemoglobin (@GENE$) level modifies the ...</td>\n",
       "      <td>PA</td>\n",
       "      <td>HbF</td>\n",
       "      <td>HBB disorders</td>\n",
       "      <td>True</td>\n",
       "      <td>True</td>\n",
       "    </tr>\n",
       "    <tr>\n",
       "      <th>...</th>\n",
       "      <td>...</td>\n",
       "      <td>...</td>\n",
       "      <td>...</td>\n",
       "      <td>...</td>\n",
       "      <td>...</td>\n",
       "      <td>...</td>\n",
       "      <td>...</td>\n",
       "    </tr>\n",
       "    <tr>\n",
       "      <th>350</th>\n",
       "      <td>Male fetuin-A SerSer carriers demonstrate part...</td>\n",
       "      <td>Male @GENE$ SerSer carriers demonstrate partic...</td>\n",
       "      <td>PA</td>\n",
       "      <td>fetuin-A</td>\n",
       "      <td>aortic stiffness</td>\n",
       "      <td>True</td>\n",
       "      <td>False</td>\n",
       "    </tr>\n",
       "    <tr>\n",
       "      <th>351</th>\n",
       "      <td>The fetuin-A polymorphism (Thr256Ser) is assoc...</td>\n",
       "      <td>The @GENE$ polymorphism (Thr256Ser) is associa...</td>\n",
       "      <td>PA</td>\n",
       "      <td>fetuin-A</td>\n",
       "      <td>vascular calcification</td>\n",
       "      <td>True</td>\n",
       "      <td>True</td>\n",
       "    </tr>\n",
       "    <tr>\n",
       "      <th>352</th>\n",
       "      <td>EGFR gene expression in pancreatic adenocarcin...</td>\n",
       "      <td>@GENE$ gene expression in @DISEASE$ cells sign...</td>\n",
       "      <td>PA</td>\n",
       "      <td>EGFR</td>\n",
       "      <td>pancreatic adenocarcinoma</td>\n",
       "      <td>True</td>\n",
       "      <td>False</td>\n",
       "    </tr>\n",
       "    <tr>\n",
       "      <th>353</th>\n",
       "      <td>Role of epidermal growth factor gene in the de...</td>\n",
       "      <td>Role of @GENE$ gene in the development of panc...</td>\n",
       "      <td>PA</td>\n",
       "      <td>epidermal growth factor</td>\n",
       "      <td>pancreatic carcinoma</td>\n",
       "      <td>True</td>\n",
       "      <td>True</td>\n",
       "    </tr>\n",
       "    <tr>\n",
       "      <th>354</th>\n",
       "      <td>On the other hand, AA genome and A allele poly...</td>\n",
       "      <td>On the other hand, AA genome and A allele poly...</td>\n",
       "      <td>PA</td>\n",
       "      <td>EGF</td>\n",
       "      <td>pancreatic cancer</td>\n",
       "      <td>True</td>\n",
       "      <td>True</td>\n",
       "    </tr>\n",
       "  </tbody>\n",
       "</table>\n",
       "<p>355 rows × 7 columns</p>\n",
       "</div>"
      ],
      "text/plain": [
       "                                              SENTENCE  \\\n",
       "0    Our work supported LRP5 genetic variants as po...   \n",
       "1    Especially, the SNP rs491347 and its strongly ...   \n",
       "2    Especially, the SNP rs491347 and its strongly ...   \n",
       "3    The HBS1L-MYB intergenic region on chromosome ...   \n",
       "4    Fetal haemoglobin (HbF) level modifies the cli...   \n",
       "..                                                 ...   \n",
       "350  Male fetuin-A SerSer carriers demonstrate part...   \n",
       "351  The fetuin-A polymorphism (Thr256Ser) is assoc...   \n",
       "352  EGFR gene expression in pancreatic adenocarcin...   \n",
       "353  Role of epidermal growth factor gene in the de...   \n",
       "354  On the other hand, AA genome and A allele poly...   \n",
       "\n",
       "                                       SENTENCE_MASKED ASSOCIATION_TYPE  \\\n",
       "0    Our work supported @GENE$ genetic variants as ...               SA   \n",
       "1    Especially, the SNP @DISEASE$ and its strongly...               SA   \n",
       "2    Especially, the SNP rs491347 and its strongly ...               SA   \n",
       "3    The HBS1L-MYB intergenic region on chromosome ...               FA   \n",
       "4    Fetal haemoglobin (@GENE$) level modifies the ...               PA   \n",
       "..                                                 ...              ...   \n",
       "350  Male @GENE$ SerSer carriers demonstrate partic...               PA   \n",
       "351  The @GENE$ polymorphism (Thr256Ser) is associa...               PA   \n",
       "352  @GENE$ gene expression in @DISEASE$ cells sign...               PA   \n",
       "353  Role of @GENE$ gene in the development of panc...               PA   \n",
       "354  On the other hand, AA genome and A allele poly...               PA   \n",
       "\n",
       "                ENTITY1_TEXT               ENTITY2_TEXT  actual_output  \\\n",
       "0                       LRP5               osteoporosis           True   \n",
       "1                   rs491347               osteoporosis           True   \n",
       "2                  rs1784235               osteoporosis           True   \n",
       "3          fetal haemoglobin          beta-thalassaemia          False   \n",
       "4                        HbF              HBB disorders           True   \n",
       "..                       ...                        ...            ...   \n",
       "350                 fetuin-A           aortic stiffness           True   \n",
       "351                 fetuin-A     vascular calcification           True   \n",
       "352                     EGFR  pancreatic adenocarcinoma           True   \n",
       "353  epidermal growth factor       pancreatic carcinoma           True   \n",
       "354                      EGF          pancreatic cancer           True   \n",
       "\n",
       "     predicted_output  \n",
       "0                True  \n",
       "1                True  \n",
       "2                True  \n",
       "3               False  \n",
       "4                True  \n",
       "..                ...  \n",
       "350             False  \n",
       "351              True  \n",
       "352             False  \n",
       "353              True  \n",
       "354              True  \n",
       "\n",
       "[355 rows x 7 columns]"
      ]
     },
     "execution_count": 62,
     "metadata": {},
     "output_type": "execute_result"
    }
   ],
   "source": [
    "euadr_unmasked\n",
    "# euadr_unmasked.to_csv(\"./euadr_unmasked.csv\",index=False)"
   ]
  },
  {
   "cell_type": "code",
   "execution_count": 65,
   "id": "027ba5b6-c232-4ee8-96ac-a31d6dfc60ce",
   "metadata": {},
   "outputs": [
    {
     "data": {
      "text/plain": [
       "actual_output\n",
       "True     262\n",
       "False     93\n",
       "Name: count, dtype: int64"
      ]
     },
     "execution_count": 65,
     "metadata": {},
     "output_type": "execute_result"
    }
   ],
   "source": [
    "euadr_unmasked.actual_output.value_counts()"
   ]
  },
  {
   "cell_type": "code",
   "execution_count": 93,
   "id": "2ff44626-3355-4f7e-ace1-751f41b1ab26",
   "metadata": {},
   "outputs": [],
   "source": [
    "seed = 144"
   ]
  },
  {
   "cell_type": "code",
   "execution_count": 94,
   "id": "0bd9692d-0e06-4b38-bc6b-640b6990d54c",
   "metadata": {},
   "outputs": [
    {
     "name": "stdout",
     "output_type": "stream",
     "text": [
      "# of True and False samples : 24 11 69.0 31.0\n",
      "# of True and False samples : 49 22 69.0 31.0\n",
      "# of True and False samples : 74 32 70.0 30.0\n",
      "# of True and False samples : 99 43 70.0 30.0\n",
      "# of True and False samples : 123 54 69.0 31.0\n",
      "# of True and False samples : 149 64 70.0 30.0\n",
      "# of True and False samples : 173 75 70.0 30.0\n",
      "# of True and False samples : 198 86 70.0 30.0\n",
      "# of True and False samples : 223 96 70.0 30.0\n",
      "# of True and False samples : 248 107 70.0 30.0\n",
      "Sampled 10%: 35\n",
      "Sampled 20%: 71\n",
      "Sampled 30%: 106\n",
      "Sampled 40%: 142\n",
      "Sampled 50%: 177\n",
      "Sampled 60%: 213\n",
      "Sampled 70%: 248\n",
      "Sampled 80%: 284\n",
      "Sampled 90%: 319\n",
      "Sampled 100%: 355\n"
     ]
    }
   ],
   "source": [
    "# Function to sample the data\n",
    "def sample_data(df, percentage):\n",
    "    n_samples = int(len(df) * percentage)\n",
    "    n_true = int(n_samples * 0.7)\n",
    "    n_false = n_samples - n_true\n",
    "\n",
    "    true_samples = df[df['predicted_output'] == True].sample(n=min(n_true, len(df[df['predicted_output'] == True])), random_state=seed)\n",
    "    false_samples = df[df['predicted_output'] == False].sample(n=min(n_false, len(df[df['predicted_output'] == False])), random_state=seed)\n",
    "\n",
    "    # If there aren't enough True or False samples, fill with the other type\n",
    "    if len(true_samples) < n_true:\n",
    "        additional_samples = df[df['predicted_output'] == False].sample(n=(n_true - len(true_samples)), random_state=seed)\n",
    "        true_samples = pd.concat([true_samples, additional_samples])\n",
    "    elif len(false_samples) < n_false:\n",
    "        additional_samples = df[df['predicted_output'] == True].sample(n=(n_false - len(false_samples)), random_state=seed)\n",
    "        false_samples = pd.concat([false_samples, additional_samples])\n",
    "    print(\"# of True and False samples :\",len(true_samples), len(false_samples), round(len(true_samples)/n_samples,2)*100, round(len(false_samples)/n_samples,2)*100 )\n",
    "    return pd.concat([true_samples, false_samples]).sample(frac=1, random_state=seed)  # Shuffle the dataset\n",
    "\n",
    "df = euadr_unmasked.copy()\n",
    "# Sampling 20%, 50%, 80%, and 100% of the data\n",
    "sample_10 = sample_data(df, 0.1)\n",
    "sample_20 = sample_data(df, 0.2)\n",
    "sample_30 = sample_data(df, 0.3)\n",
    "sample_40 = sample_data(df, 0.4)\n",
    "sample_50 = sample_data(df, 0.5)\n",
    "sample_60 = sample_data(df, 0.6)\n",
    "sample_70 = sample_data(df, 0.7)\n",
    "sample_80 = sample_data(df, 0.8)\n",
    "sample_90 = sample_data(df, 0.9)\n",
    "sample_100 = sample_data(df, 1.0)\n",
    "\n",
    "# Example: print the sampled data sizes\n",
    "print(\"Sampled 10%:\", len(sample_10))\n",
    "print(\"Sampled 20%:\", len(sample_20))\n",
    "print(\"Sampled 30%:\", len(sample_30))\n",
    "print(\"Sampled 40%:\", len(sample_40))\n",
    "print(\"Sampled 50%:\", len(sample_50))\n",
    "print(\"Sampled 60%:\", len(sample_60))\n",
    "print(\"Sampled 70%:\", len(sample_70))\n",
    "print(\"Sampled 80%:\", len(sample_80))\n",
    "print(\"Sampled 90%:\", len(sample_90))\n",
    "print(\"Sampled 100%:\", len(sample_100))"
   ]
  },
  {
   "cell_type": "code",
   "execution_count": null,
   "id": "304765ad-c6e9-4a06-ae32-c2ab7c749340",
   "metadata": {},
   "outputs": [],
   "source": []
  },
  {
   "cell_type": "code",
   "execution_count": 95,
   "id": "a0ca1e80-0870-49f7-aeae-d5a2256bd7ae",
   "metadata": {},
   "outputs": [
    {
     "name": "stdout",
     "output_type": "stream",
     "text": [
      "/home/016651544/gemma\n"
     ]
    }
   ],
   "source": [
    "!pwd"
   ]
  },
  {
   "cell_type": "code",
   "execution_count": 96,
   "id": "b9b9643f-2ade-4a7b-990d-3261d88a9a47",
   "metadata": {},
   "outputs": [
    {
     "data": {
      "text/plain": [
       "'/home/016651544/llama2_euadr/test_df_10_25_FT_model_euadr.csv'"
      ]
     },
     "execution_count": 96,
     "metadata": {},
     "output_type": "execute_result"
    }
   ],
   "source": [
    "\"/home/016651544/llama2_euadr/test_df_10_25_FT_model_euadr.csv\""
   ]
  },
  {
   "cell_type": "code",
   "execution_count": 97,
   "id": "ebfc8a1b-c17e-4fad-84d2-ddfdafd55ad2",
   "metadata": {},
   "outputs": [],
   "source": [
    "sample_10.to_csv(f\"./datasets/{seed}/euadr/10_sample_val_euadr.csv\",index=True)\n",
    "sample_20.to_csv(f\"./datasets/{seed}/euadr/20_sample_val_euadr.csv\",index=True)\n",
    "sample_30.to_csv(f\"./datasets/{seed}/euadr/30_sample_val_euadr.csv\",index=True)\n",
    "sample_40.to_csv(f\"./datasets/{seed}/euadr/40_sample_val_euadr.csv\",index=True)\n",
    "sample_50.to_csv(f\"./datasets/{seed}/euadr/50_sample_val_euadr.csv\",index=True)\n",
    "sample_60.to_csv(f\"./datasets/{seed}/euadr/60_sample_val_euadr.csv\",index=True)\n",
    "sample_70.to_csv(f\"./datasets/{seed}/euadr/70_sample_val_euadr.csv\",index=True)\n",
    "sample_80.to_csv(f\"./datasets/{seed}/euadr/80_sample_val_euadr.csv\",index=True)\n",
    "sample_90.to_csv(f\"./datasets/{seed}/euadr/90_sample_val_euadr.csv\",index=True)\n",
    "sample_100.to_csv(f\"./datasets/{seed}/euadr/100_sample_val_euadr.csv\",index=True)"
   ]
  },
  {
   "cell_type": "code",
   "execution_count": null,
   "id": "a73586a8-bdc1-4c25-9c0f-2392bcfb6792",
   "metadata": {},
   "outputs": [],
   "source": []
  },
  {
   "cell_type": "code",
   "execution_count": 19,
   "id": "ebfe222e-d2ed-4cd4-9134-e463a6bac78f",
   "metadata": {},
   "outputs": [
    {
     "data": {
      "text/html": [
       "<div>\n",
       "<style scoped>\n",
       "    .dataframe tbody tr th:only-of-type {\n",
       "        vertical-align: middle;\n",
       "    }\n",
       "\n",
       "    .dataframe tbody tr th {\n",
       "        vertical-align: top;\n",
       "    }\n",
       "\n",
       "    .dataframe thead th {\n",
       "        text-align: right;\n",
       "    }\n",
       "</style>\n",
       "<table border=\"1\" class=\"dataframe\">\n",
       "  <thead>\n",
       "    <tr style=\"text-align: right;\">\n",
       "      <th></th>\n",
       "      <th>SENTENCE</th>\n",
       "      <th>SENTENCE_MASKED</th>\n",
       "      <th>ASSOCIATION_TYPE</th>\n",
       "      <th>ENTITY1_TEXT</th>\n",
       "      <th>ENTITY2_TEXT</th>\n",
       "      <th>label</th>\n",
       "    </tr>\n",
       "  </thead>\n",
       "  <tbody>\n",
       "    <tr>\n",
       "      <th>350</th>\n",
       "      <td>Male fetuin-A SerSer carriers demonstrate part...</td>\n",
       "      <td>Male @GENE$ SerSer carriers demonstrate partic...</td>\n",
       "      <td>PA</td>\n",
       "      <td>fetuin-A</td>\n",
       "      <td>aortic stiffness</td>\n",
       "      <td>True</td>\n",
       "    </tr>\n",
       "    <tr>\n",
       "      <th>351</th>\n",
       "      <td>The fetuin-A polymorphism (Thr256Ser) is assoc...</td>\n",
       "      <td>The @GENE$ polymorphism (Thr256Ser) is associa...</td>\n",
       "      <td>PA</td>\n",
       "      <td>fetuin-A</td>\n",
       "      <td>vascular calcification</td>\n",
       "      <td>True</td>\n",
       "    </tr>\n",
       "  </tbody>\n",
       "</table>\n",
       "</div>"
      ],
      "text/plain": [
       "                                              SENTENCE  \\\n",
       "350  Male fetuin-A SerSer carriers demonstrate part...   \n",
       "351  The fetuin-A polymorphism (Thr256Ser) is assoc...   \n",
       "\n",
       "                                       SENTENCE_MASKED ASSOCIATION_TYPE  \\\n",
       "350  Male @GENE$ SerSer carriers demonstrate partic...               PA   \n",
       "351  The @GENE$ polymorphism (Thr256Ser) is associa...               PA   \n",
       "\n",
       "    ENTITY1_TEXT            ENTITY2_TEXT  label  \n",
       "350     fetuin-A        aortic stiffness   True  \n",
       "351     fetuin-A  vascular calcification   True  "
      ]
     },
     "execution_count": 19,
     "metadata": {},
     "output_type": "execute_result"
    }
   ],
   "source": [
    "euadr_unmasked[euadr_unmasked.ENTITY1_TEXT == \"fetuin-A\"]# and euadr_unmasked.ENTITY1_TEXT == \"LRP5\"]"
   ]
  },
  {
   "cell_type": "code",
   "execution_count": 20,
   "id": "6637daf3-84c3-48b9-916c-96225ebc694d",
   "metadata": {},
   "outputs": [
    {
     "data": {
      "text/plain": [
       "ME2                       7\n",
       "IL23R                     7\n",
       "NOS1AP rs7538490          6\n",
       "NOD2                      6\n",
       "PKLR rs3020781            5\n",
       "                         ..\n",
       "MBL promoter haplotype    1\n",
       "epsilon4                  1\n",
       "epsilon2                  1\n",
       "Apolipoprotein E          1\n",
       "EGF                       1\n",
       "Name: ENTITY1_TEXT, Length: 221, dtype: int64"
      ]
     },
     "execution_count": 20,
     "metadata": {},
     "output_type": "execute_result"
    }
   ],
   "source": [
    "euadr_unmasked.ENTITY1_TEXT.value_counts()"
   ]
  },
  {
   "cell_type": "code",
   "execution_count": 22,
   "id": "f8fb8110-2055-4100-941f-6106dccb587f",
   "metadata": {},
   "outputs": [
    {
     "data": {
      "text/plain": [
       "CD                                    35\n",
       "papillary thyroid cancer              19\n",
       "schizophrenia                         17\n",
       "Crohn's disease                       16\n",
       "breast cancer                         11\n",
       "                                      ..\n",
       "anosmia                                1\n",
       "Leber congenital amaurosis             1\n",
       "atopic                                 1\n",
       "inflammatory and allergic diseases     1\n",
       "pancreatic cancer                      1\n",
       "Name: ENTITY2_TEXT, Length: 118, dtype: int64"
      ]
     },
     "execution_count": 22,
     "metadata": {},
     "output_type": "execute_result"
    }
   ],
   "source": [
    "euadr_unmasked.ENTITY2_TEXT.value_counts()"
   ]
  },
  {
   "cell_type": "code",
   "execution_count": 13,
   "id": "6b5bcdce-d85f-4372-babe-f5772f67a165",
   "metadata": {},
   "outputs": [
    {
     "data": {
      "text/html": [
       "<div>\n",
       "<style scoped>\n",
       "    .dataframe tbody tr th:only-of-type {\n",
       "        vertical-align: middle;\n",
       "    }\n",
       "\n",
       "    .dataframe tbody tr th {\n",
       "        vertical-align: top;\n",
       "    }\n",
       "\n",
       "    .dataframe thead th {\n",
       "        text-align: right;\n",
       "    }\n",
       "</style>\n",
       "<table border=\"1\" class=\"dataframe\">\n",
       "  <thead>\n",
       "    <tr style=\"text-align: right;\">\n",
       "      <th>label</th>\n",
       "      <th>False</th>\n",
       "      <th>True</th>\n",
       "    </tr>\n",
       "    <tr>\n",
       "      <th>ASSOCIATION_TYPE</th>\n",
       "      <th></th>\n",
       "      <th></th>\n",
       "    </tr>\n",
       "  </thead>\n",
       "  <tbody>\n",
       "    <tr>\n",
       "      <th>FA</th>\n",
       "      <td>56</td>\n",
       "      <td>37</td>\n",
       "    </tr>\n",
       "    <tr>\n",
       "      <th>PA</th>\n",
       "      <td>25</td>\n",
       "      <td>188</td>\n",
       "    </tr>\n",
       "    <tr>\n",
       "      <th>SA</th>\n",
       "      <td>7</td>\n",
       "      <td>23</td>\n",
       "    </tr>\n",
       "  </tbody>\n",
       "</table>\n",
       "</div>"
      ],
      "text/plain": [
       "label             False  True \n",
       "ASSOCIATION_TYPE              \n",
       "FA                   56     37\n",
       "PA                   25    188\n",
       "SA                    7     23"
      ]
     },
     "execution_count": 13,
     "metadata": {},
     "output_type": "execute_result"
    }
   ],
   "source": [
    "# unmasked-> entities -> mask -> llama2/gemma -> output\n",
    "euadr_unmasked.groupby(['ASSOCIATION_TYPE', 'label']).size().unstack(fill_value=0)\n"
   ]
  },
  {
   "cell_type": "code",
   "execution_count": 52,
   "id": "5b9a1eff-b0f0-4b6d-ad29-54385cea1818",
   "metadata": {},
   "outputs": [],
   "source": [
    "# test_df = pd.DataFrame({\n",
    "#     'actual_output': ['True', 'False', 'TRUE', 'FALSE', 'true', 'false'],\n",
    "#     'predicted_output': ['True', 'False', 'TRUE', 'FALSE', 'true', 'false']\n",
    "# })\n",
    "\n",
    "# # Normalize case to lower and then convert to integer\n",
    "# test_df['actual'] = (test_df['actual_output'].str.lower() == 'true').astype(int)\n",
    "# test_df['predicted'] = (test_df['predicted_output'].str.replace(r\"[^TrueFalse]\", \"\", regex=True).str.lower() == 'true').astype(int)\n"
   ]
  },
  {
   "cell_type": "code",
   "execution_count": 53,
   "id": "72a1fcb3-62f9-40bd-ad34-98dec905aea2",
   "metadata": {},
   "outputs": [],
   "source": [
    "# test_df"
   ]
  },
  {
   "cell_type": "code",
   "execution_count": null,
   "id": "01e9f5cb-bc23-48d4-85d5-a468f46e811a",
   "metadata": {},
   "outputs": [],
   "source": []
  },
  {
   "cell_type": "markdown",
   "id": "6e2ddcaa-54d5-4cc5-9573-3cbba16f9452",
   "metadata": {},
   "source": [
    "### llama2 - EUADR"
   ]
  },
  {
   "cell_type": "code",
   "execution_count": 326,
   "id": "5cc6cecf-d67b-44ef-9af7-cd16c2b175ae",
   "metadata": {},
   "outputs": [],
   "source": [
    "import pandas as pd\n",
    "from sklearn.metrics import precision_score, recall_score, f1_score\n"
   ]
  },
  {
   "cell_type": "code",
   "execution_count": 327,
   "id": "94864a9f-9c01-403c-b7fb-2292e6ae146a",
   "metadata": {},
   "outputs": [
    {
     "data": {
      "text/html": [
       "<div>\n",
       "<style scoped>\n",
       "    .dataframe tbody tr th:only-of-type {\n",
       "        vertical-align: middle;\n",
       "    }\n",
       "\n",
       "    .dataframe tbody tr th {\n",
       "        vertical-align: top;\n",
       "    }\n",
       "\n",
       "    .dataframe thead th {\n",
       "        text-align: right;\n",
       "    }\n",
       "</style>\n",
       "<table border=\"1\" class=\"dataframe\">\n",
       "  <thead>\n",
       "    <tr style=\"text-align: right;\">\n",
       "      <th></th>\n",
       "      <th>sentence</th>\n",
       "      <th>actual_output</th>\n",
       "      <th>predicted_output</th>\n",
       "    </tr>\n",
       "  </thead>\n",
       "  <tbody>\n",
       "    <tr>\n",
       "      <th>0</th>\n",
       "      <td>Our work supported @GENE$ genetic variants as ...</td>\n",
       "      <td>True</td>\n",
       "      <td>True</td>\n",
       "    </tr>\n",
       "    <tr>\n",
       "      <th>1</th>\n",
       "      <td>Especially, the SNP @GENE$ and its strongly as...</td>\n",
       "      <td>True</td>\n",
       "      <td>True</td>\n",
       "    </tr>\n",
       "    <tr>\n",
       "      <th>2</th>\n",
       "      <td>Especially, the SNP rs491347 and its strongly ...</td>\n",
       "      <td>True</td>\n",
       "      <td>True</td>\n",
       "    </tr>\n",
       "    <tr>\n",
       "      <th>3</th>\n",
       "      <td>The HBS1L-MYB intergenic region on chromosome ...</td>\n",
       "      <td>False</td>\n",
       "      <td>False</td>\n",
       "    </tr>\n",
       "    <tr>\n",
       "      <th>4</th>\n",
       "      <td>Fetal haemoglobin (@GENE$) level modifies the ...</td>\n",
       "      <td>True</td>\n",
       "      <td>True</td>\n",
       "    </tr>\n",
       "  </tbody>\n",
       "</table>\n",
       "</div>"
      ],
      "text/plain": [
       "                                            sentence  actual_output  \\\n",
       "0  Our work supported @GENE$ genetic variants as ...           True   \n",
       "1  Especially, the SNP @GENE$ and its strongly as...           True   \n",
       "2  Especially, the SNP rs491347 and its strongly ...           True   \n",
       "3  The HBS1L-MYB intergenic region on chromosome ...          False   \n",
       "4  Fetal haemoglobin (@GENE$) level modifies the ...           True   \n",
       "\n",
       "   predicted_output  \n",
       "0              True  \n",
       "1              True  \n",
       "2              True  \n",
       "3             False  \n",
       "4              True  "
      ]
     },
     "execution_count": 327,
     "metadata": {},
     "output_type": "execute_result"
    }
   ],
   "source": [
    "llama2_gad_out = pd.read_csv(\"/home/016651544/llama2_euadr/test_df_10_25_FT_model_euadr.csv\")\n",
    "llama2_gad_out.head()"
   ]
  },
  {
   "cell_type": "code",
   "execution_count": 328,
   "id": "6af57841-956a-4463-86e6-488d0c02d25f",
   "metadata": {},
   "outputs": [],
   "source": [
    "def change_nan(row):\n",
    "    if pd.isna(row[2]) :# or row[2].lower() == \"nan\":\n",
    "        return not row[1]\n",
    "    elif \"true\" in row[2].lower():\n",
    "        return True\n",
    "    elif \"false\" in row[2].lower():\n",
    "        return False\n",
    "    else:\n",
    "        return not row[1]"
   ]
  },
  {
   "cell_type": "code",
   "execution_count": 329,
   "id": "b3fc71ac-6a72-4abf-ba1b-0976291f9097",
   "metadata": {},
   "outputs": [
    {
     "name": "stdout",
     "output_type": "stream",
     "text": [
      "sentence            0\n",
      "actual_output       0\n",
      "predicted_output    0\n",
      "dtype: int64\n"
     ]
    }
   ],
   "source": [
    "print(llama2_gad_out.isna().sum())\n",
    "llama2_gad_out.dropna(inplace=True)\n"
   ]
  },
  {
   "cell_type": "code",
   "execution_count": 330,
   "id": "48b86c71-abd3-4c7f-8711-d5538e83d781",
   "metadata": {},
   "outputs": [
    {
     "data": {
      "text/plain": [
       "(355, 3)"
      ]
     },
     "execution_count": 330,
     "metadata": {},
     "output_type": "execute_result"
    }
   ],
   "source": [
    "llama2_gad_out.shape"
   ]
  },
  {
   "cell_type": "code",
   "execution_count": 331,
   "id": "674bd123-d001-4f96-a8a4-639375de31a0",
   "metadata": {},
   "outputs": [
    {
     "data": {
      "text/plain": [
       "predicted_output\n",
       "True     239\n",
       "False    116\n",
       "Name: count, dtype: int64"
      ]
     },
     "execution_count": 331,
     "metadata": {},
     "output_type": "execute_result"
    }
   ],
   "source": [
    "llama2_gad_out.predicted_output.value_counts()"
   ]
  },
  {
   "cell_type": "code",
   "execution_count": 332,
   "id": "ffc2b907-96f2-43a8-be5e-4fd8eec7b76f",
   "metadata": {},
   "outputs": [],
   "source": [
    "# llama2_gad_out.to_csv(\"/home/016651544/model_predictions_files/llama2_7b_euadr_predictions.csv\",index=False)\n"
   ]
  },
  {
   "cell_type": "code",
   "execution_count": 333,
   "id": "7c59d421-97d0-496c-aa15-3ca9a3e50356",
   "metadata": {},
   "outputs": [
    {
     "name": "stdout",
     "output_type": "stream",
     "text": [
      "Precision:  0.894459673928726\n",
      "Recall:  0.9488221291964212\n",
      "F1 score:  0.9152412877594095\n",
      "              precision    recall  f1-score   support\n",
      "\n",
      "       False       0.79      0.99      0.88        93\n",
      "        True       1.00      0.91      0.95       262\n",
      "\n",
      "    accuracy                           0.93       355\n",
      "   macro avg       0.89      0.95      0.92       355\n",
      "weighted avg       0.94      0.93      0.93       355\n",
      "\n"
     ]
    }
   ],
   "source": [
    "# Generate classification report\n",
    "from sklearn.metrics import precision_score, recall_score, f1_score, classification_report\n",
    "actual = llama2_gad_out['actual_output'].astype(str)\n",
    "predicted = llama2_gad_out['predicted_output'].astype(str)\n",
    "# Calculate Precision, Recall, and F1 score\n",
    "precision = precision_score(actual, predicted, average='macro')\n",
    "recall = recall_score(actual, predicted, average='macro')\n",
    "f1 = f1_score(actual, predicted, average='macro')\n",
    "print(\"Precision: \",precision)\n",
    "print(\"Recall: \",recall)\n",
    "print(\"F1 score: \",f1)\n",
    "report = classification_report(actual, predicted)\n",
    "print(report)"
   ]
  },
  {
   "cell_type": "markdown",
   "id": "b541770e-9a60-4438-aa95-a4495a5a44d2",
   "metadata": {},
   "source": [
    "### GEMMA 2b"
   ]
  },
  {
   "cell_type": "code",
   "execution_count": 334,
   "id": "e27924a8-233b-4e8b-be81-57e6bccfd72d",
   "metadata": {},
   "outputs": [
    {
     "data": {
      "text/html": [
       "<div>\n",
       "<style scoped>\n",
       "    .dataframe tbody tr th:only-of-type {\n",
       "        vertical-align: middle;\n",
       "    }\n",
       "\n",
       "    .dataframe tbody tr th {\n",
       "        vertical-align: top;\n",
       "    }\n",
       "\n",
       "    .dataframe thead th {\n",
       "        text-align: right;\n",
       "    }\n",
       "</style>\n",
       "<table border=\"1\" class=\"dataframe\">\n",
       "  <thead>\n",
       "    <tr style=\"text-align: right;\">\n",
       "      <th></th>\n",
       "      <th>sentence</th>\n",
       "      <th>actual_output</th>\n",
       "      <th>predicted_output</th>\n",
       "    </tr>\n",
       "  </thead>\n",
       "  <tbody>\n",
       "    <tr>\n",
       "      <th>0</th>\n",
       "      <td>Our work supported @GENE$ genetic variants as ...</td>\n",
       "      <td>True</td>\n",
       "      <td>True</td>\n",
       "    </tr>\n",
       "    <tr>\n",
       "      <th>1</th>\n",
       "      <td>Especially, the SNP @GENE$ and its strongly as...</td>\n",
       "      <td>True</td>\n",
       "      <td>True</td>\n",
       "    </tr>\n",
       "    <tr>\n",
       "      <th>2</th>\n",
       "      <td>Especially, the SNP rs491347 and its strongly ...</td>\n",
       "      <td>True</td>\n",
       "      <td>True</td>\n",
       "    </tr>\n",
       "    <tr>\n",
       "      <th>3</th>\n",
       "      <td>The HBS1L-MYB intergenic region on chromosome ...</td>\n",
       "      <td>False</td>\n",
       "      <td>False</td>\n",
       "    </tr>\n",
       "    <tr>\n",
       "      <th>4</th>\n",
       "      <td>Fetal haemoglobin (@GENE$) level modifies the ...</td>\n",
       "      <td>True</td>\n",
       "      <td>True</td>\n",
       "    </tr>\n",
       "  </tbody>\n",
       "</table>\n",
       "</div>"
      ],
      "text/plain": [
       "                                            sentence  actual_output  \\\n",
       "0  Our work supported @GENE$ genetic variants as ...           True   \n",
       "1  Especially, the SNP @GENE$ and its strongly as...           True   \n",
       "2  Especially, the SNP rs491347 and its strongly ...           True   \n",
       "3  The HBS1L-MYB intergenic region on chromosome ...          False   \n",
       "4  Fetal haemoglobin (@GENE$) level modifies the ...           True   \n",
       "\n",
       "  predicted_output  \n",
       "0             True  \n",
       "1             True  \n",
       "2             True  \n",
       "3            False  \n",
       "4             True  "
      ]
     },
     "execution_count": 334,
     "metadata": {},
     "output_type": "execute_result"
    }
   ],
   "source": [
    "import pandas as pd\n",
    "gemma_gad_out = pd.read_csv(\"/home/016651544/gemma/test_df_10000_50_FT_model_gemma_euadr.csv\")\n",
    "gemma_gad_out.head()"
   ]
  },
  {
   "cell_type": "code",
   "execution_count": 335,
   "id": "21de77c5-2965-4e14-991e-86e66bf16d43",
   "metadata": {},
   "outputs": [],
   "source": [
    "# pd.read_csv(\"/home/016651544/gemma/euadr_unmasked.csv\").SENTENCE[0]"
   ]
  },
  {
   "cell_type": "code",
   "execution_count": 336,
   "id": "d7ea38ec-c5be-4d02-8056-45619289ec56",
   "metadata": {},
   "outputs": [],
   "source": [
    "# gemma_gad_out.sentence[0],gemma_gad_out.actual_output[1] "
   ]
  },
  {
   "cell_type": "code",
   "execution_count": 337,
   "id": "ab534103-827b-4e09-a9a8-7fbad4270923",
   "metadata": {},
   "outputs": [],
   "source": [
    "# Apply the function to each row in the DataFrame\n",
    "gemma_gad_out.predicted_output = gemma_gad_out.apply(lambda x: change_nan(x),axis=1)"
   ]
  },
  {
   "cell_type": "code",
   "execution_count": 338,
   "id": "a52ec484-f0fd-4c34-a0d1-fb8f78277079",
   "metadata": {},
   "outputs": [
    {
     "name": "stdout",
     "output_type": "stream",
     "text": [
      "sentence            0\n",
      "actual_output       0\n",
      "predicted_output    0\n",
      "dtype: int64\n"
     ]
    }
   ],
   "source": [
    "print(gemma_gad_out.isna().sum())\n",
    "# gemma_gad_out.dropna(inplace=True)\n"
   ]
  },
  {
   "cell_type": "code",
   "execution_count": 339,
   "id": "a8bd589f-4267-42d9-95b9-af5474cb892e",
   "metadata": {},
   "outputs": [
    {
     "data": {
      "text/html": [
       "<div>\n",
       "<style scoped>\n",
       "    .dataframe tbody tr th:only-of-type {\n",
       "        vertical-align: middle;\n",
       "    }\n",
       "\n",
       "    .dataframe tbody tr th {\n",
       "        vertical-align: top;\n",
       "    }\n",
       "\n",
       "    .dataframe thead th {\n",
       "        text-align: right;\n",
       "    }\n",
       "</style>\n",
       "<table border=\"1\" class=\"dataframe\">\n",
       "  <thead>\n",
       "    <tr style=\"text-align: right;\">\n",
       "      <th></th>\n",
       "      <th>sentence</th>\n",
       "      <th>actual_output</th>\n",
       "      <th>predicted_output</th>\n",
       "    </tr>\n",
       "  </thead>\n",
       "  <tbody>\n",
       "    <tr>\n",
       "      <th>0</th>\n",
       "      <td>Our work supported @GENE$ genetic variants as ...</td>\n",
       "      <td>True</td>\n",
       "      <td>True</td>\n",
       "    </tr>\n",
       "    <tr>\n",
       "      <th>1</th>\n",
       "      <td>Especially, the SNP @GENE$ and its strongly as...</td>\n",
       "      <td>True</td>\n",
       "      <td>True</td>\n",
       "    </tr>\n",
       "    <tr>\n",
       "      <th>2</th>\n",
       "      <td>Especially, the SNP rs491347 and its strongly ...</td>\n",
       "      <td>True</td>\n",
       "      <td>True</td>\n",
       "    </tr>\n",
       "    <tr>\n",
       "      <th>3</th>\n",
       "      <td>The HBS1L-MYB intergenic region on chromosome ...</td>\n",
       "      <td>False</td>\n",
       "      <td>False</td>\n",
       "    </tr>\n",
       "    <tr>\n",
       "      <th>4</th>\n",
       "      <td>Fetal haemoglobin (@GENE$) level modifies the ...</td>\n",
       "      <td>True</td>\n",
       "      <td>True</td>\n",
       "    </tr>\n",
       "    <tr>\n",
       "      <th>...</th>\n",
       "      <td>...</td>\n",
       "      <td>...</td>\n",
       "      <td>...</td>\n",
       "    </tr>\n",
       "    <tr>\n",
       "      <th>350</th>\n",
       "      <td>Male @GENE$ SerSer carriers demonstrate partic...</td>\n",
       "      <td>True</td>\n",
       "      <td>True</td>\n",
       "    </tr>\n",
       "    <tr>\n",
       "      <th>351</th>\n",
       "      <td>The @GENE$ polymorphism (Thr256Ser) is associa...</td>\n",
       "      <td>True</td>\n",
       "      <td>True</td>\n",
       "    </tr>\n",
       "    <tr>\n",
       "      <th>352</th>\n",
       "      <td>@GENE$ gene expression in @DISEASE$ cells sign...</td>\n",
       "      <td>True</td>\n",
       "      <td>True</td>\n",
       "    </tr>\n",
       "    <tr>\n",
       "      <th>353</th>\n",
       "      <td>Role of @GENE$ gene in the development of panc...</td>\n",
       "      <td>True</td>\n",
       "      <td>True</td>\n",
       "    </tr>\n",
       "    <tr>\n",
       "      <th>354</th>\n",
       "      <td>On the other hand, AA genome and A allele poly...</td>\n",
       "      <td>True</td>\n",
       "      <td>True</td>\n",
       "    </tr>\n",
       "  </tbody>\n",
       "</table>\n",
       "<p>355 rows × 3 columns</p>\n",
       "</div>"
      ],
      "text/plain": [
       "                                              sentence  actual_output  \\\n",
       "0    Our work supported @GENE$ genetic variants as ...           True   \n",
       "1    Especially, the SNP @GENE$ and its strongly as...           True   \n",
       "2    Especially, the SNP rs491347 and its strongly ...           True   \n",
       "3    The HBS1L-MYB intergenic region on chromosome ...          False   \n",
       "4    Fetal haemoglobin (@GENE$) level modifies the ...           True   \n",
       "..                                                 ...            ...   \n",
       "350  Male @GENE$ SerSer carriers demonstrate partic...           True   \n",
       "351  The @GENE$ polymorphism (Thr256Ser) is associa...           True   \n",
       "352  @GENE$ gene expression in @DISEASE$ cells sign...           True   \n",
       "353  Role of @GENE$ gene in the development of panc...           True   \n",
       "354  On the other hand, AA genome and A allele poly...           True   \n",
       "\n",
       "     predicted_output  \n",
       "0                True  \n",
       "1                True  \n",
       "2                True  \n",
       "3               False  \n",
       "4                True  \n",
       "..                ...  \n",
       "350              True  \n",
       "351              True  \n",
       "352              True  \n",
       "353              True  \n",
       "354              True  \n",
       "\n",
       "[355 rows x 3 columns]"
      ]
     },
     "execution_count": 339,
     "metadata": {},
     "output_type": "execute_result"
    }
   ],
   "source": [
    "gemma_gad_out"
   ]
  },
  {
   "cell_type": "code",
   "execution_count": 340,
   "id": "b0e93bba-e19a-4496-a920-1498650ce953",
   "metadata": {},
   "outputs": [
    {
     "data": {
      "text/plain": [
       "(355, 3)"
      ]
     },
     "execution_count": 340,
     "metadata": {},
     "output_type": "execute_result"
    }
   ],
   "source": [
    "gemma_gad_out.shape"
   ]
  },
  {
   "cell_type": "code",
   "execution_count": 341,
   "id": "b5a6d2a2-9389-4419-99c6-ad364c64346f",
   "metadata": {},
   "outputs": [
    {
     "data": {
      "text/html": [
       "<div>\n",
       "<style scoped>\n",
       "    .dataframe tbody tr th:only-of-type {\n",
       "        vertical-align: middle;\n",
       "    }\n",
       "\n",
       "    .dataframe tbody tr th {\n",
       "        vertical-align: top;\n",
       "    }\n",
       "\n",
       "    .dataframe thead th {\n",
       "        text-align: right;\n",
       "    }\n",
       "</style>\n",
       "<table border=\"1\" class=\"dataframe\">\n",
       "  <thead>\n",
       "    <tr style=\"text-align: right;\">\n",
       "      <th></th>\n",
       "      <th>sentence</th>\n",
       "      <th>actual_output</th>\n",
       "      <th>predicted_output</th>\n",
       "    </tr>\n",
       "  </thead>\n",
       "  <tbody>\n",
       "    <tr>\n",
       "      <th>0</th>\n",
       "      <td>Our work supported @GENE$ genetic variants as ...</td>\n",
       "      <td>True</td>\n",
       "      <td>True</td>\n",
       "    </tr>\n",
       "    <tr>\n",
       "      <th>1</th>\n",
       "      <td>Especially, the SNP @GENE$ and its strongly as...</td>\n",
       "      <td>True</td>\n",
       "      <td>True</td>\n",
       "    </tr>\n",
       "    <tr>\n",
       "      <th>2</th>\n",
       "      <td>Especially, the SNP rs491347 and its strongly ...</td>\n",
       "      <td>True</td>\n",
       "      <td>True</td>\n",
       "    </tr>\n",
       "    <tr>\n",
       "      <th>3</th>\n",
       "      <td>The HBS1L-MYB intergenic region on chromosome ...</td>\n",
       "      <td>False</td>\n",
       "      <td>False</td>\n",
       "    </tr>\n",
       "    <tr>\n",
       "      <th>4</th>\n",
       "      <td>Fetal haemoglobin (@GENE$) level modifies the ...</td>\n",
       "      <td>True</td>\n",
       "      <td>True</td>\n",
       "    </tr>\n",
       "  </tbody>\n",
       "</table>\n",
       "</div>"
      ],
      "text/plain": [
       "                                            sentence  actual_output  \\\n",
       "0  Our work supported @GENE$ genetic variants as ...           True   \n",
       "1  Especially, the SNP @GENE$ and its strongly as...           True   \n",
       "2  Especially, the SNP rs491347 and its strongly ...           True   \n",
       "3  The HBS1L-MYB intergenic region on chromosome ...          False   \n",
       "4  Fetal haemoglobin (@GENE$) level modifies the ...           True   \n",
       "\n",
       "   predicted_output  \n",
       "0              True  \n",
       "1              True  \n",
       "2              True  \n",
       "3             False  \n",
       "4              True  "
      ]
     },
     "execution_count": 341,
     "metadata": {},
     "output_type": "execute_result"
    }
   ],
   "source": [
    "gemma_gad_out.head()"
   ]
  },
  {
   "cell_type": "code",
   "execution_count": 342,
   "id": "fe2e54c5-4eea-4e72-877c-21c5d0aaa603",
   "metadata": {},
   "outputs": [
    {
     "name": "stdout",
     "output_type": "stream",
     "text": [
      "sentence            0\n",
      "actual_output       0\n",
      "predicted_output    0\n",
      "dtype: int64\n"
     ]
    }
   ],
   "source": [
    "print(gemma_gad_out.isna().sum())\n",
    "gemma_gad_out.dropna(inplace=True)\n"
   ]
  },
  {
   "cell_type": "code",
   "execution_count": 343,
   "id": "c398c15a-2f14-40e3-9426-e5f1f50f1de6",
   "metadata": {},
   "outputs": [
    {
     "data": {
      "text/plain": [
       "(predicted_output\n",
       " True     268\n",
       " False     87\n",
       " Name: count, dtype: int64,\n",
       " actual_output\n",
       " True     262\n",
       " False     93\n",
       " Name: count, dtype: int64)"
      ]
     },
     "execution_count": 343,
     "metadata": {},
     "output_type": "execute_result"
    }
   ],
   "source": [
    "gemma_gad_out.predicted_output.value_counts(),gemma_gad_out.actual_output.value_counts(),\n"
   ]
  },
  {
   "cell_type": "code",
   "execution_count": 344,
   "id": "423f9ee1-60b2-4873-983c-c0ec15d8a7a9",
   "metadata": {},
   "outputs": [],
   "source": [
    "# gemma_gad_out.to_csv(\"/home/016651544/model_predictions_files/gemma_2b_euadr_predictions.csv\",index=False)\n"
   ]
  },
  {
   "cell_type": "code",
   "execution_count": 319,
   "id": "d64560f1-8282-47ff-b532-c08913c5be0a",
   "metadata": {
    "scrolled": true
   },
   "outputs": [
    {
     "name": "stdout",
     "output_type": "stream",
     "text": [
      "Precision:  0.5472636815920398\n",
      "Recall:  0.5452269555938603\n",
      "F1 score:  0.5460167714884696\n",
      "              precision    recall  f1-score   support\n",
      "\n",
      "       False       0.33      0.31      0.32        93\n",
      "        True       0.76      0.78      0.77       262\n",
      "\n",
      "    accuracy                           0.66       355\n",
      "   macro avg       0.55      0.55      0.55       355\n",
      "weighted avg       0.65      0.66      0.65       355\n",
      "\n"
     ]
    }
   ],
   "source": [
    "# Generate classification report\n",
    "from sklearn.metrics import precision_score, recall_score, f1_score\n",
    "actual = gemma_gad_out['actual_output']\n",
    "predicted = gemma_gad_out['predicted_output']\n",
    "# Calculate Precision, Recall, and F1 score\n",
    "precision = precision_score(actual, predicted, average='macro')\n",
    "recall = recall_score(actual, predicted, average='macro')\n",
    "f1 = f1_score(actual, predicted, average='macro')\n",
    "print(\"Precision: \",precision)\n",
    "print(\"Recall: \",recall)\n",
    "print(\"F1 score: \",f1)\n",
    "report = classification_report(gemma_gad_out['actual_output'], gemma_gad_out['predicted_output'])\n",
    "print(report)"
   ]
  },
  {
   "cell_type": "markdown",
   "id": "374356f8-9928-49c3-8061-8c49ea1e050c",
   "metadata": {},
   "source": [
    "### GEMMA 7b - EUADR"
   ]
  },
  {
   "cell_type": "code",
   "execution_count": 345,
   "id": "cda145fb-9d8b-4569-bd2e-37d0365a2596",
   "metadata": {},
   "outputs": [
    {
     "data": {
      "text/html": [
       "<div>\n",
       "<style scoped>\n",
       "    .dataframe tbody tr th:only-of-type {\n",
       "        vertical-align: middle;\n",
       "    }\n",
       "\n",
       "    .dataframe tbody tr th {\n",
       "        vertical-align: top;\n",
       "    }\n",
       "\n",
       "    .dataframe thead th {\n",
       "        text-align: right;\n",
       "    }\n",
       "</style>\n",
       "<table border=\"1\" class=\"dataframe\">\n",
       "  <thead>\n",
       "    <tr style=\"text-align: right;\">\n",
       "      <th></th>\n",
       "      <th>sentence</th>\n",
       "      <th>actual_output</th>\n",
       "      <th>predicted_output</th>\n",
       "    </tr>\n",
       "  </thead>\n",
       "  <tbody>\n",
       "    <tr>\n",
       "      <th>0</th>\n",
       "      <td>Our work supported @GENE$ genetic variants as ...</td>\n",
       "      <td>True</td>\n",
       "      <td>True</td>\n",
       "    </tr>\n",
       "    <tr>\n",
       "      <th>1</th>\n",
       "      <td>Especially, the SNP @GENE$ and its strongly as...</td>\n",
       "      <td>True</td>\n",
       "      <td>True</td>\n",
       "    </tr>\n",
       "    <tr>\n",
       "      <th>2</th>\n",
       "      <td>Especially, the SNP rs491347 and its strongly ...</td>\n",
       "      <td>True</td>\n",
       "      <td>True</td>\n",
       "    </tr>\n",
       "    <tr>\n",
       "      <th>3</th>\n",
       "      <td>The HBS1L-MYB intergenic region on chromosome ...</td>\n",
       "      <td>False</td>\n",
       "      <td>False</td>\n",
       "    </tr>\n",
       "    <tr>\n",
       "      <th>4</th>\n",
       "      <td>Fetal haemoglobin (@GENE$) level modifies the ...</td>\n",
       "      <td>True</td>\n",
       "      <td>NaN</td>\n",
       "    </tr>\n",
       "  </tbody>\n",
       "</table>\n",
       "</div>"
      ],
      "text/plain": [
       "                                            sentence  actual_output  \\\n",
       "0  Our work supported @GENE$ genetic variants as ...           True   \n",
       "1  Especially, the SNP @GENE$ and its strongly as...           True   \n",
       "2  Especially, the SNP rs491347 and its strongly ...           True   \n",
       "3  The HBS1L-MYB intergenic region on chromosome ...          False   \n",
       "4  Fetal haemoglobin (@GENE$) level modifies the ...           True   \n",
       "\n",
       "  predicted_output  \n",
       "0             True  \n",
       "1             True  \n",
       "2             True  \n",
       "3            False  \n",
       "4              NaN  "
      ]
     },
     "execution_count": 345,
     "metadata": {},
     "output_type": "execute_result"
    }
   ],
   "source": [
    "import pandas as pd\n",
    "gemma_gad_out = pd.read_csv(\"/home/016651544/gemma/euadr/test_df_10000_25_FT_model_euadr_1_1_7b_gemma.csv\")\n",
    "gemma_gad_out.head()"
   ]
  },
  {
   "cell_type": "code",
   "execution_count": 346,
   "id": "a50d2521-8756-44ef-a862-9346cab5997e",
   "metadata": {},
   "outputs": [],
   "source": [
    "# Apply the function to each row in the DataFrame\n",
    "gemma_gad_out.predicted_output = gemma_gad_out.apply(lambda x: change_nan(x),axis=1)\n"
   ]
  },
  {
   "cell_type": "code",
   "execution_count": 347,
   "id": "b6e63628-89a9-41e3-b2cb-a4e321d116bb",
   "metadata": {},
   "outputs": [
    {
     "name": "stdout",
     "output_type": "stream",
     "text": [
      "sentence            0\n",
      "actual_output       0\n",
      "predicted_output    0\n",
      "dtype: int64\n"
     ]
    }
   ],
   "source": [
    "print(gemma_gad_out.isna().sum())\n",
    "# gemma_gad_out.dropna(inplace=True)\n"
   ]
  },
  {
   "cell_type": "code",
   "execution_count": 348,
   "id": "751e74ef-7c04-45c0-b91c-a1c3a934b025",
   "metadata": {},
   "outputs": [
    {
     "data": {
      "text/html": [
       "<div>\n",
       "<style scoped>\n",
       "    .dataframe tbody tr th:only-of-type {\n",
       "        vertical-align: middle;\n",
       "    }\n",
       "\n",
       "    .dataframe tbody tr th {\n",
       "        vertical-align: top;\n",
       "    }\n",
       "\n",
       "    .dataframe thead th {\n",
       "        text-align: right;\n",
       "    }\n",
       "</style>\n",
       "<table border=\"1\" class=\"dataframe\">\n",
       "  <thead>\n",
       "    <tr style=\"text-align: right;\">\n",
       "      <th></th>\n",
       "      <th>sentence</th>\n",
       "      <th>actual_output</th>\n",
       "      <th>predicted_output</th>\n",
       "    </tr>\n",
       "  </thead>\n",
       "  <tbody>\n",
       "    <tr>\n",
       "      <th>0</th>\n",
       "      <td>Our work supported @GENE$ genetic variants as ...</td>\n",
       "      <td>True</td>\n",
       "      <td>True</td>\n",
       "    </tr>\n",
       "    <tr>\n",
       "      <th>1</th>\n",
       "      <td>Especially, the SNP @GENE$ and its strongly as...</td>\n",
       "      <td>True</td>\n",
       "      <td>True</td>\n",
       "    </tr>\n",
       "    <tr>\n",
       "      <th>2</th>\n",
       "      <td>Especially, the SNP rs491347 and its strongly ...</td>\n",
       "      <td>True</td>\n",
       "      <td>True</td>\n",
       "    </tr>\n",
       "    <tr>\n",
       "      <th>3</th>\n",
       "      <td>The HBS1L-MYB intergenic region on chromosome ...</td>\n",
       "      <td>False</td>\n",
       "      <td>False</td>\n",
       "    </tr>\n",
       "    <tr>\n",
       "      <th>4</th>\n",
       "      <td>Fetal haemoglobin (@GENE$) level modifies the ...</td>\n",
       "      <td>True</td>\n",
       "      <td>False</td>\n",
       "    </tr>\n",
       "    <tr>\n",
       "      <th>...</th>\n",
       "      <td>...</td>\n",
       "      <td>...</td>\n",
       "      <td>...</td>\n",
       "    </tr>\n",
       "    <tr>\n",
       "      <th>350</th>\n",
       "      <td>Male @GENE$ SerSer carriers demonstrate partic...</td>\n",
       "      <td>True</td>\n",
       "      <td>True</td>\n",
       "    </tr>\n",
       "    <tr>\n",
       "      <th>351</th>\n",
       "      <td>The @GENE$ polymorphism (Thr256Ser) is associa...</td>\n",
       "      <td>True</td>\n",
       "      <td>False</td>\n",
       "    </tr>\n",
       "    <tr>\n",
       "      <th>352</th>\n",
       "      <td>@GENE$ gene expression in @DISEASE$ cells sign...</td>\n",
       "      <td>True</td>\n",
       "      <td>False</td>\n",
       "    </tr>\n",
       "    <tr>\n",
       "      <th>353</th>\n",
       "      <td>Role of @GENE$ gene in the development of panc...</td>\n",
       "      <td>True</td>\n",
       "      <td>False</td>\n",
       "    </tr>\n",
       "    <tr>\n",
       "      <th>354</th>\n",
       "      <td>On the other hand, AA genome and A allele poly...</td>\n",
       "      <td>True</td>\n",
       "      <td>True</td>\n",
       "    </tr>\n",
       "  </tbody>\n",
       "</table>\n",
       "<p>355 rows × 3 columns</p>\n",
       "</div>"
      ],
      "text/plain": [
       "                                              sentence  actual_output  \\\n",
       "0    Our work supported @GENE$ genetic variants as ...           True   \n",
       "1    Especially, the SNP @GENE$ and its strongly as...           True   \n",
       "2    Especially, the SNP rs491347 and its strongly ...           True   \n",
       "3    The HBS1L-MYB intergenic region on chromosome ...          False   \n",
       "4    Fetal haemoglobin (@GENE$) level modifies the ...           True   \n",
       "..                                                 ...            ...   \n",
       "350  Male @GENE$ SerSer carriers demonstrate partic...           True   \n",
       "351  The @GENE$ polymorphism (Thr256Ser) is associa...           True   \n",
       "352  @GENE$ gene expression in @DISEASE$ cells sign...           True   \n",
       "353  Role of @GENE$ gene in the development of panc...           True   \n",
       "354  On the other hand, AA genome and A allele poly...           True   \n",
       "\n",
       "     predicted_output  \n",
       "0                True  \n",
       "1                True  \n",
       "2                True  \n",
       "3               False  \n",
       "4               False  \n",
       "..                ...  \n",
       "350              True  \n",
       "351             False  \n",
       "352             False  \n",
       "353             False  \n",
       "354              True  \n",
       "\n",
       "[355 rows x 3 columns]"
      ]
     },
     "execution_count": 348,
     "metadata": {},
     "output_type": "execute_result"
    }
   ],
   "source": [
    "gemma_gad_out"
   ]
  },
  {
   "cell_type": "code",
   "execution_count": 349,
   "id": "897b12b5-5b54-4708-9b40-429536033ef9",
   "metadata": {},
   "outputs": [
    {
     "data": {
      "text/plain": [
       "(355, 3)"
      ]
     },
     "execution_count": 349,
     "metadata": {},
     "output_type": "execute_result"
    }
   ],
   "source": [
    "gemma_gad_out.shape"
   ]
  },
  {
   "cell_type": "code",
   "execution_count": 350,
   "id": "43b0a95e-2685-4f39-89a6-a1ef0bcf1219",
   "metadata": {},
   "outputs": [
    {
     "data": {
      "text/html": [
       "<div>\n",
       "<style scoped>\n",
       "    .dataframe tbody tr th:only-of-type {\n",
       "        vertical-align: middle;\n",
       "    }\n",
       "\n",
       "    .dataframe tbody tr th {\n",
       "        vertical-align: top;\n",
       "    }\n",
       "\n",
       "    .dataframe thead th {\n",
       "        text-align: right;\n",
       "    }\n",
       "</style>\n",
       "<table border=\"1\" class=\"dataframe\">\n",
       "  <thead>\n",
       "    <tr style=\"text-align: right;\">\n",
       "      <th></th>\n",
       "      <th>sentence</th>\n",
       "      <th>actual_output</th>\n",
       "      <th>predicted_output</th>\n",
       "    </tr>\n",
       "  </thead>\n",
       "  <tbody>\n",
       "    <tr>\n",
       "      <th>0</th>\n",
       "      <td>Our work supported @GENE$ genetic variants as ...</td>\n",
       "      <td>True</td>\n",
       "      <td>True</td>\n",
       "    </tr>\n",
       "    <tr>\n",
       "      <th>1</th>\n",
       "      <td>Especially, the SNP @GENE$ and its strongly as...</td>\n",
       "      <td>True</td>\n",
       "      <td>True</td>\n",
       "    </tr>\n",
       "    <tr>\n",
       "      <th>2</th>\n",
       "      <td>Especially, the SNP rs491347 and its strongly ...</td>\n",
       "      <td>True</td>\n",
       "      <td>True</td>\n",
       "    </tr>\n",
       "    <tr>\n",
       "      <th>3</th>\n",
       "      <td>The HBS1L-MYB intergenic region on chromosome ...</td>\n",
       "      <td>False</td>\n",
       "      <td>False</td>\n",
       "    </tr>\n",
       "    <tr>\n",
       "      <th>4</th>\n",
       "      <td>Fetal haemoglobin (@GENE$) level modifies the ...</td>\n",
       "      <td>True</td>\n",
       "      <td>False</td>\n",
       "    </tr>\n",
       "  </tbody>\n",
       "</table>\n",
       "</div>"
      ],
      "text/plain": [
       "                                            sentence  actual_output  \\\n",
       "0  Our work supported @GENE$ genetic variants as ...           True   \n",
       "1  Especially, the SNP @GENE$ and its strongly as...           True   \n",
       "2  Especially, the SNP rs491347 and its strongly ...           True   \n",
       "3  The HBS1L-MYB intergenic region on chromosome ...          False   \n",
       "4  Fetal haemoglobin (@GENE$) level modifies the ...           True   \n",
       "\n",
       "   predicted_output  \n",
       "0              True  \n",
       "1              True  \n",
       "2              True  \n",
       "3             False  \n",
       "4             False  "
      ]
     },
     "execution_count": 350,
     "metadata": {},
     "output_type": "execute_result"
    }
   ],
   "source": [
    "gemma_gad_out.head()"
   ]
  },
  {
   "cell_type": "code",
   "execution_count": 351,
   "id": "0c73ff12-d861-4f3a-9d26-96d7266f1817",
   "metadata": {},
   "outputs": [
    {
     "name": "stdout",
     "output_type": "stream",
     "text": [
      "sentence            0\n",
      "actual_output       0\n",
      "predicted_output    0\n",
      "dtype: int64\n"
     ]
    }
   ],
   "source": [
    "print(gemma_gad_out.isna().sum())\n",
    "gemma_gad_out.dropna(inplace=True)\n"
   ]
  },
  {
   "cell_type": "code",
   "execution_count": 352,
   "id": "39ae60e5-2b26-480d-8d14-d1cc2461df29",
   "metadata": {},
   "outputs": [
    {
     "data": {
      "text/plain": [
       "(predicted_output\n",
       " True     198\n",
       " False    157\n",
       " Name: count, dtype: int64,\n",
       " actual_output\n",
       " True     262\n",
       " False     93\n",
       " Name: count, dtype: int64)"
      ]
     },
     "execution_count": 352,
     "metadata": {},
     "output_type": "execute_result"
    }
   ],
   "source": [
    "gemma_gad_out.predicted_output.value_counts(),gemma_gad_out.actual_output.value_counts(),\n"
   ]
  },
  {
   "cell_type": "code",
   "execution_count": 353,
   "id": "40f989b8-91c3-4629-bea7-d9f5c172492d",
   "metadata": {},
   "outputs": [],
   "source": [
    "# gemma_gad_out = gemma_gad_out[gemma_gad_out.predicted_output != \"NAN\"]#.to_csv(\"/home/016651544/gemma/euadr_gemma_7b_output.csv\",index=False)\n",
    "# gemma_gad_out.to_csv(\"/home/016651544/model_predictions_files/gemma_7b_euadr_predictions.csv\",index=False)"
   ]
  },
  {
   "cell_type": "code",
   "execution_count": 284,
   "id": "3d309cb3-a531-46cf-a58a-fecf7cb904e8",
   "metadata": {
    "scrolled": true
   },
   "outputs": [
    {
     "name": "stdout",
     "output_type": "stream",
     "text": [
      "Precision:  0.6077494692144374\n",
      "Recall:  0.6374661413444964\n",
      "F1 score:  0.5986956521739131\n",
      "              precision    recall  f1-score   support\n",
      "\n",
      "       False       0.38      0.65      0.48        93\n",
      "        True       0.83      0.63      0.72       262\n",
      "\n",
      "    accuracy                           0.63       355\n",
      "   macro avg       0.61      0.64      0.60       355\n",
      "weighted avg       0.72      0.63      0.66       355\n",
      "\n"
     ]
    }
   ],
   "source": [
    "# Generate classification report\n",
    "from sklearn.metrics import precision_score, recall_score, f1_score\n",
    "actual = gemma_gad_out['actual_output']\n",
    "predicted = gemma_gad_out['predicted_output']\n",
    "# Calculate Precision, Recall, and F1 score\n",
    "precision = precision_score(actual, predicted, average='macro')\n",
    "recall = recall_score(actual, predicted, average='macro')\n",
    "f1 = f1_score(actual, predicted, average='macro')\n",
    "print(\"Precision: \",precision)\n",
    "print(\"Recall: \",recall)\n",
    "print(\"F1 score: \",f1)\n",
    "report = classification_report(gemma_gad_out['actual_output'], gemma_gad_out['predicted_output'])\n",
    "print(report)"
   ]
  },
  {
   "cell_type": "code",
   "execution_count": null,
   "id": "65f3b537-683f-4f68-b47c-16e50c4a94b5",
   "metadata": {},
   "outputs": [],
   "source": [
    "\n",
    "\n"
   ]
  },
  {
   "cell_type": "code",
   "execution_count": null,
   "id": "32e17907-bc12-4592-87bb-01b660045f09",
   "metadata": {},
   "outputs": [],
   "source": []
  },
  {
   "cell_type": "code",
   "execution_count": null,
   "id": "039f6382-fe02-4eb8-8cb5-3a8aa2d16a34",
   "metadata": {},
   "outputs": [],
   "source": []
  }
 ],
 "metadata": {
  "kernelspec": {
   "display_name": "Python 3 (ipykernel)",
   "language": "python",
   "name": "python3"
  },
  "language_info": {
   "codemirror_mode": {
    "name": "ipython",
    "version": 3
   },
   "file_extension": ".py",
   "mimetype": "text/x-python",
   "name": "python",
   "nbconvert_exporter": "python",
   "pygments_lexer": "ipython3",
   "version": "3.8.18"
  }
 },
 "nbformat": 4,
 "nbformat_minor": 5
}
