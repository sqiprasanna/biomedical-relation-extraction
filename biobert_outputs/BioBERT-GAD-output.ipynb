{
 "cells": [
  {
   "cell_type": "code",
   "execution_count": 18,
   "id": "82c38e9f-e2d3-45d3-a95a-924b01d7ed68",
   "metadata": {},
   "outputs": [],
   "source": [
    "pred_output_path = r\"/home/016651544/CMPE295A/biomedical-relation-extraction/github/biobert-pytorch/relation-extraction/output/\"\n",
    "act_output_path =r\"/home/016651544/CMPE295A/biomedical-relation-extraction/github/biobert-pytorch/datasets/RE/GAD/\""
   ]
  },
  {
   "cell_type": "code",
   "execution_count": 23,
   "id": "ebc6f566-7486-4e22-893f-495cfba7a8a5",
   "metadata": {},
   "outputs": [
    {
     "data": {
      "text/plain": [
       "(['/home/016651544/CMPE295A/biomedical-relation-extraction/github/biobert-pytorch/relation-extraction/output/GAD-1',\n",
       "  '/home/016651544/CMPE295A/biomedical-relation-extraction/github/biobert-pytorch/relation-extraction/output/GAD-2',\n",
       "  '/home/016651544/CMPE295A/biomedical-relation-extraction/github/biobert-pytorch/relation-extraction/output/GAD-3',\n",
       "  '/home/016651544/CMPE295A/biomedical-relation-extraction/github/biobert-pytorch/relation-extraction/output/GAD-4',\n",
       "  '/home/016651544/CMPE295A/biomedical-relation-extraction/github/biobert-pytorch/relation-extraction/output/GAD-5',\n",
       "  '/home/016651544/CMPE295A/biomedical-relation-extraction/github/biobert-pytorch/relation-extraction/output/GAD-6',\n",
       "  '/home/016651544/CMPE295A/biomedical-relation-extraction/github/biobert-pytorch/relation-extraction/output/GAD-7',\n",
       "  '/home/016651544/CMPE295A/biomedical-relation-extraction/github/biobert-pytorch/relation-extraction/output/GAD-8',\n",
       "  '/home/016651544/CMPE295A/biomedical-relation-extraction/github/biobert-pytorch/relation-extraction/output/GAD-9',\n",
       "  '/home/016651544/CMPE295A/biomedical-relation-extraction/github/biobert-pytorch/relation-extraction/output/GAD-10'],\n",
       " ['/home/016651544/CMPE295A/biomedical-relation-extraction/github/biobert-pytorch/datasets/RE/GAD/1',\n",
       "  '/home/016651544/CMPE295A/biomedical-relation-extraction/github/biobert-pytorch/datasets/RE/GAD/2',\n",
       "  '/home/016651544/CMPE295A/biomedical-relation-extraction/github/biobert-pytorch/datasets/RE/GAD/3',\n",
       "  '/home/016651544/CMPE295A/biomedical-relation-extraction/github/biobert-pytorch/datasets/RE/GAD/4',\n",
       "  '/home/016651544/CMPE295A/biomedical-relation-extraction/github/biobert-pytorch/datasets/RE/GAD/5',\n",
       "  '/home/016651544/CMPE295A/biomedical-relation-extraction/github/biobert-pytorch/datasets/RE/GAD/6',\n",
       "  '/home/016651544/CMPE295A/biomedical-relation-extraction/github/biobert-pytorch/datasets/RE/GAD/7',\n",
       "  '/home/016651544/CMPE295A/biomedical-relation-extraction/github/biobert-pytorch/datasets/RE/GAD/8',\n",
       "  '/home/016651544/CMPE295A/biomedical-relation-extraction/github/biobert-pytorch/datasets/RE/GAD/9',\n",
       "  '/home/016651544/CMPE295A/biomedical-relation-extraction/github/biobert-pytorch/datasets/RE/GAD/10'])"
      ]
     },
     "execution_count": 23,
     "metadata": {},
     "output_type": "execute_result"
    }
   ],
   "source": [
    "import pandas as pd\n",
    "import os\n",
    "\n",
    "# Define the directory paths\n",
    "base_folder = r\"/home/016651544/CMPE295A/biomedical-relation-extraction/github/biobert-pytorch/datasets/RE/euadr/\"\n",
    "\n",
    "gad_folders = [pred_output_path+ f'GAD-{i}' for i in range(1, 11)]\n",
    "number_folders = [act_output_path+ str(i) for i in range(1, 11)]\n",
    "\n",
    "# Initialize an empty list to store DataFrames\n",
    "gad_folders,number_folders"
   ]
  },
  {
   "cell_type": "code",
   "execution_count": 62,
   "id": "fe4d61e9-42d3-46ec-9b55-8774563a1b21",
   "metadata": {},
   "outputs": [],
   "source": [
    "\n",
    "combined_df = pd.DataFrame()\n",
    "# Iterate over each GAD folder\n",
    "for gad_folder,number_folder in zip(gad_folders,number_folders):\n",
    "    # Read test_output.txt file in GAD folder\n",
    "    output_file_path = os.path.join(gad_folder, 'test_results.txt')\n",
    "    if os.path.isfile(output_file_path):\n",
    "        output_df = pd.read_csv(output_file_path, sep='\\t').drop(columns = [\"index\"])\n",
    "        # display(output_df.head())\n",
    "    else:\n",
    "        continue\n",
    "\n",
    "    # Read test.tsv file in corresponding number folder\n",
    "    input_file_path = os.path.join(number_folder, 'test_original.tsv')\n",
    "    if os.path.isfile(input_file_path):\n",
    "        input_df = pd.read_csv(input_file_path, sep='\\t').drop(columns = [\"index\"])\n",
    "        # display(input_df.head())\n",
    "    else:\n",
    "        continue\n",
    "    c_df = pd.concat([input_df, output_df], axis=1)#.drop(columns=['index'])\n",
    "    # display(c_df.head())\n",
    "    # Append both DataFrames to the list\n",
    "    combined_df = pd.concat([combined_df,c_df], ignore_index=True)\n",
    "    # dfs(c_df)\n",
    "# Concatenate all DataFrames into a single DataFrame\n",
    "# dfs\n"
   ]
  },
  {
   "cell_type": "code",
   "execution_count": 65,
   "id": "29895595-4d34-4385-b9bf-0b14a6796fde",
   "metadata": {},
   "outputs": [
    {
     "name": "stdout",
     "output_type": "stream",
     "text": [
      "              precision    recall  f1-score   support\n",
      "\n",
      "           0       0.48      0.99      0.64      2529\n",
      "           1       0.58      0.01      0.02      2801\n",
      "\n",
      "    accuracy                           0.48      5330\n",
      "   macro avg       0.53      0.50      0.33      5330\n",
      "weighted avg       0.53      0.48      0.32      5330\n",
      "\n"
     ]
    }
   ],
   "source": [
    "from sklearn.metrics import classification_report\n",
    "print(classification_report(combined_df['label'], combined_df['prediction']))"
   ]
  },
  {
   "cell_type": "code",
   "execution_count": null,
   "id": "624dad3c-9576-4d93-a81c-554fee2c71e4",
   "metadata": {},
   "outputs": [],
   "source": []
  },
  {
   "cell_type": "code",
   "execution_count": null,
   "id": "ba0b5178-02c2-474b-8307-b1ebdb2f0e5b",
   "metadata": {},
   "outputs": [],
   "source": []
  }
 ],
 "metadata": {
  "kernelspec": {
   "display_name": "Python 3 (ipykernel)",
   "language": "python",
   "name": "python3"
  },
  "language_info": {
   "codemirror_mode": {
    "name": "ipython",
    "version": 3
   },
   "file_extension": ".py",
   "mimetype": "text/x-python",
   "name": "python",
   "nbconvert_exporter": "python",
   "pygments_lexer": "ipython3",
   "version": "3.10.9"
  }
 },
 "nbformat": 4,
 "nbformat_minor": 5
}
