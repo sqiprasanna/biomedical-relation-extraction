{
 "cells": [
  {
   "cell_type": "code",
   "execution_count": null,
   "id": "f5a5a29c-9dbe-484b-93c6-29c5b3e8e67b",
   "metadata": {},
   "outputs": [],
   "source": [
    "## len(sentence) - len(tokenizer)\n"
   ]
  },
  {
   "cell_type": "code",
   "execution_count": 38,
   "id": "0cbf4622-c05b-4f1e-8f62-8ca187e19e0c",
   "metadata": {},
   "outputs": [],
   "source": [
    "import pandas as pd\n",
    "import numpy as np\n",
    "pd.set_option('display.max_colwidth', None)\n",
    "\n",
    "euadr = pd.read_csv(\"/home/016651544/llama2_euadr/combined_train.tsv\",sep=\"\\t\")"
   ]
  },
  {
   "cell_type": "code",
   "execution_count": 39,
   "id": "3fd71e38-b88d-4c3e-8699-fa4b87b65f27",
   "metadata": {},
   "outputs": [
    {
     "data": {
      "text/plain": [
       "(3195, 2)"
      ]
     },
     "execution_count": 39,
     "metadata": {},
     "output_type": "execute_result"
    }
   ],
   "source": [
    "euadr.shape"
   ]
  },
  {
   "cell_type": "code",
   "execution_count": 40,
   "id": "229ec0b8-f4aa-4579-9912-5fb1f68ecec6",
   "metadata": {},
   "outputs": [
    {
     "data": {
      "text/html": [
       "<div>\n",
       "<style scoped>\n",
       "    .dataframe tbody tr th:only-of-type {\n",
       "        vertical-align: middle;\n",
       "    }\n",
       "\n",
       "    .dataframe tbody tr th {\n",
       "        vertical-align: top;\n",
       "    }\n",
       "\n",
       "    .dataframe thead th {\n",
       "        text-align: right;\n",
       "    }\n",
       "</style>\n",
       "<table border=\"1\" class=\"dataframe\">\n",
       "  <thead>\n",
       "    <tr style=\"text-align: right;\">\n",
       "      <th></th>\n",
       "      <th>sentence</th>\n",
       "      <th>label</th>\n",
       "    </tr>\n",
       "  </thead>\n",
       "  <tbody>\n",
       "    <tr>\n",
       "      <th>0</th>\n",
       "      <td>In humans, loss-of-function of the cilia-centrosomal protein @GENE$ is associated with Joubert and @DISEASE$, whereas hypomorphic mutations result in Leber congenital amaurosis (LCA), a form of early-onset retinal dystrophy.</td>\n",
       "      <td>True</td>\n",
       "    </tr>\n",
       "    <tr>\n",
       "      <th>1</th>\n",
       "      <td>Toll-like receptor-induced @GENE$ secretion is impaired in @DISEASE$ by nucleotide oligomerization domain 2-dependent and -independent pathways.</td>\n",
       "      <td>True</td>\n",
       "    </tr>\n",
       "    <tr>\n",
       "      <th>2</th>\n",
       "      <td>In summary, we observed associations between @GENE$ gene and BC risk, and a comprehensive analysis using clinical and tumour characteristics as outcome variables has revealed potential associations with @DISEASE$.</td>\n",
       "      <td>True</td>\n",
       "    </tr>\n",
       "    <tr>\n",
       "      <th>3</th>\n",
       "      <td>A recent study demonstrated the association of @GENE$ located in the upstream region with risk for or protection from @DISEASE$ (SLE).</td>\n",
       "      <td>True</td>\n",
       "    </tr>\n",
       "    <tr>\n",
       "      <th>4</th>\n",
       "      <td>Based on @GENE$ analyses, 41 @DISEASE$ patients and 12 healthy controls were studied.</td>\n",
       "      <td>False</td>\n",
       "    </tr>\n",
       "  </tbody>\n",
       "</table>\n",
       "</div>"
      ],
      "text/plain": [
       "                                                                                                                                                                                                                           sentence  \\\n",
       "0  In humans, loss-of-function of the cilia-centrosomal protein @GENE$ is associated with Joubert and @DISEASE$, whereas hypomorphic mutations result in Leber congenital amaurosis (LCA), a form of early-onset retinal dystrophy.   \n",
       "1                                                                                  Toll-like receptor-induced @GENE$ secretion is impaired in @DISEASE$ by nucleotide oligomerization domain 2-dependent and -independent pathways.   \n",
       "2             In summary, we observed associations between @GENE$ gene and BC risk, and a comprehensive analysis using clinical and tumour characteristics as outcome variables has revealed potential associations with @DISEASE$.   \n",
       "3                                                                                            A recent study demonstrated the association of @GENE$ located in the upstream region with risk for or protection from @DISEASE$ (SLE).   \n",
       "4                                                                                                                                             Based on @GENE$ analyses, 41 @DISEASE$ patients and 12 healthy controls were studied.   \n",
       "\n",
       "   label  \n",
       "0   True  \n",
       "1   True  \n",
       "2   True  \n",
       "3   True  \n",
       "4  False  "
      ]
     },
     "metadata": {},
     "output_type": "display_data"
    }
   ],
   "source": [
    "display(euadr.head())"
   ]
  },
  {
   "cell_type": "code",
   "execution_count": 26,
   "id": "23eda09c-a9ba-44fd-b4f1-2704a9d324d4",
   "metadata": {},
   "outputs": [],
   "source": [
    "file_path = './words.txt'\n",
    "\n",
    "# Reading the text file and creating a set of words\n",
    "with open(file_path, 'r') as file:\n",
    "    words_set = set(file.read().splitlines())\n",
    "\n",
    "# Display the set\n",
    "# words_set"
   ]
  },
  {
   "cell_type": "code",
   "execution_count": 41,
   "id": "aba8b01b-30d1-457c-896f-9585e82b9908",
   "metadata": {},
   "outputs": [],
   "source": [
    "def search(x,words_set):\n",
    "    words = x.split(\" \")\n",
    "    match_count = 0\n",
    "    for word in words:\n",
    "        if word in words_set:\n",
    "            match_count += 1\n",
    "            \n",
    "    return match_count\n",
    "euadr['match_count'] = euadr.sentence.apply(lambda x: search(x,words_set))\n",
    "euadr['sentence_len'] = euadr.sentence.apply(lambda x: len(x.split(\" \")))\n"
   ]
  },
  {
   "cell_type": "code",
   "execution_count": 42,
   "id": "b69d241c-2f31-4019-9cc4-56f285f7fbe7",
   "metadata": {},
   "outputs": [
    {
     "data": {
      "text/plain": [
       "(16.56619718309859, 28.383098591549295)"
      ]
     },
     "execution_count": 42,
     "metadata": {},
     "output_type": "execute_result"
    }
   ],
   "source": [
    "# EUADR\n",
    "euadr.match_count.sum()/euadr.shape[0], euadr['sentence_len'].sum()/euadr.shape[0]"
   ]
  },
  {
   "cell_type": "code",
   "execution_count": 43,
   "id": "775c9584-dd30-495e-8138-6681b7af05f0",
   "metadata": {},
   "outputs": [
    {
     "data": {
      "text/plain": [
       "58.3664152441445"
      ]
     },
     "execution_count": 43,
     "metadata": {},
     "output_type": "execute_result"
    }
   ],
   "source": [
    "(euadr.match_count.sum()/euadr.shape[0])*100/ (euadr['sentence_len'].sum()/euadr.shape[0])"
   ]
  },
  {
   "cell_type": "code",
   "execution_count": 45,
   "id": "a1491af7-eb96-48b4-98e0-85019ba90786",
   "metadata": {},
   "outputs": [],
   "source": [
    "gad = pd.read_csv(\"/home/016651544/llama2/train_data.tsv\",sep=\"\\t\")\n"
   ]
  },
  {
   "cell_type": "code",
   "execution_count": 46,
   "id": "9fe7239b-0dd7-4a26-967b-c2267b88e8cc",
   "metadata": {},
   "outputs": [],
   "source": [
    "gad['match_count'] = gad.sentence.apply(lambda x: search(x,words_set))\n",
    "gad['sentence_len'] = gad.sentence.apply(lambda x: len(x.split(\" \")))\n"
   ]
  },
  {
   "cell_type": "code",
   "execution_count": 47,
   "id": "6077c6e6-9b03-44ec-8121-f368443d973f",
   "metadata": {},
   "outputs": [
    {
     "data": {
      "text/plain": [
       "65.59216472714948"
      ]
     },
     "execution_count": 47,
     "metadata": {},
     "output_type": "execute_result"
    }
   ],
   "source": [
    "#GAD\n",
    "(gad.match_count.sum()/gad.shape[0])*100/ (gad['sentence_len'].sum()/gad.shape[0])"
   ]
  },
  {
   "cell_type": "code",
   "execution_count": null,
   "id": "3cd2e67e-2588-4630-8c4d-ada5ac99f030",
   "metadata": {},
   "outputs": [],
   "source": []
  }
 ],
 "metadata": {
  "kernelspec": {
   "display_name": "bobi",
   "language": "python",
   "name": "bobi"
  },
  "language_info": {
   "codemirror_mode": {
    "name": "ipython",
    "version": 3
   },
   "file_extension": ".py",
   "mimetype": "text/x-python",
   "name": "python",
   "nbconvert_exporter": "python",
   "pygments_lexer": "ipython3",
   "version": "3.10.13"
  }
 },
 "nbformat": 4,
 "nbformat_minor": 5
}
